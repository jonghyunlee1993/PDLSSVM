{
 "cells": [
  {
   "cell_type": "code",
   "execution_count": 1,
   "id": "14bc1f75",
   "metadata": {},
   "outputs": [],
   "source": [
    "import numpy as np\n",
    "import pandas as pd\n",
    "from tqdm.notebook import tqdm\n",
    "from src.PDLSSVM import PDLSSVM\n",
    "from sklearn.datasets import load_iris\n",
    "from sklearn.model_selection import train_test_split, KFold\n",
    "from sklearn.metrics import confusion_matrix, accuracy_score\n",
    "\n",
    "kf = KFold(n_splits=5, shuffle=True, random_state=1234)"
   ]
  },
  {
   "cell_type": "markdown",
   "id": "9a7e9d11",
   "metadata": {},
   "source": [
    "# iris dataset"
   ]
  },
  {
   "cell_type": "code",
   "execution_count": 2,
   "id": "7bb9138c",
   "metadata": {},
   "outputs": [],
   "source": [
    "iris = load_iris()\n",
    "X = iris['data'][:100]\n",
    "y = iris['target'][:100]\n",
    "y[:50] = -1\n",
    "\n",
    "X, X_test, y, y_test = train_test_split(X, y, test_size=0.2, random_state=1234)"
   ]
  },
  {
   "cell_type": "code",
   "execution_count": 3,
   "id": "0a3348fc",
   "metadata": {
    "scrolled": false
   },
   "outputs": [
    {
     "data": {
      "application/vnd.jupyter.widget-view+json": {
       "model_id": "685be4e0df054de29b2e897b4a8a7a20",
       "version_major": 2,
       "version_minor": 0
      },
      "text/plain": [
       "HBox(children=(HTML(value=''), FloatProgress(value=0.0, max=4.0), HTML(value='')))"
      ]
     },
     "metadata": {},
     "output_type": "display_data"
    },
    {
     "name": "stdout",
     "output_type": "stream",
     "text": [
      "\n"
     ]
    },
    {
     "ename": "KeyboardInterrupt",
     "evalue": "",
     "output_type": "error",
     "traceback": [
      "\u001b[1;31m---------------------------------------------------------------------------\u001b[0m",
      "\u001b[1;31mKeyboardInterrupt\u001b[0m                         Traceback (most recent call last)",
      "\u001b[1;32m<ipython-input-3-30b66db784ff>\u001b[0m in \u001b[0;36m<module>\u001b[1;34m\u001b[0m\n\u001b[0;32m     21\u001b[0m \u001b[1;33m\u001b[0m\u001b[0m\n\u001b[0;32m     22\u001b[0m                     \u001b[0mclf\u001b[0m \u001b[1;33m=\u001b[0m \u001b[0mPDLSSVM\u001b[0m\u001b[1;33m(\u001b[0m\u001b[0mrho\u001b[0m\u001b[1;33m,\u001b[0m \u001b[0mc\u001b[0m\u001b[1;33m,\u001b[0m \u001b[0mc1\u001b[0m\u001b[1;33m,\u001b[0m \u001b[0mc2\u001b[0m\u001b[1;33m)\u001b[0m\u001b[1;33m\u001b[0m\u001b[1;33m\u001b[0m\u001b[0m\n\u001b[1;32m---> 23\u001b[1;33m                     \u001b[0mclf\u001b[0m\u001b[1;33m.\u001b[0m\u001b[0mfit\u001b[0m\u001b[1;33m(\u001b[0m\u001b[0mX_train\u001b[0m\u001b[1;33m,\u001b[0m \u001b[0my_train\u001b[0m\u001b[1;33m)\u001b[0m\u001b[1;33m\u001b[0m\u001b[1;33m\u001b[0m\u001b[0m\n\u001b[0m\u001b[0;32m     24\u001b[0m                     \u001b[0mpred\u001b[0m\u001b[1;33m,\u001b[0m \u001b[0m_\u001b[0m\u001b[1;33m,\u001b[0m \u001b[0m_\u001b[0m \u001b[1;33m=\u001b[0m \u001b[0mclf\u001b[0m\u001b[1;33m.\u001b[0m\u001b[0mpredict\u001b[0m\u001b[1;33m(\u001b[0m\u001b[0mX_val\u001b[0m\u001b[1;33m)\u001b[0m\u001b[1;33m\u001b[0m\u001b[1;33m\u001b[0m\u001b[0m\n\u001b[0;32m     25\u001b[0m                     \u001b[0macc\u001b[0m \u001b[1;33m=\u001b[0m \u001b[0maccuracy_score\u001b[0m\u001b[1;33m(\u001b[0m\u001b[0my_val\u001b[0m\u001b[1;33m,\u001b[0m \u001b[0mpred\u001b[0m\u001b[1;33m)\u001b[0m\u001b[1;33m\u001b[0m\u001b[1;33m\u001b[0m\u001b[0m\n",
      "\u001b[1;32m~\\Workspaces\\PDLSSVM\\src\\PDLSSVM.py\u001b[0m in \u001b[0;36mfit\u001b[1;34m(self, train_X, train_y_, verbose)\u001b[0m\n\u001b[0;32m     54\u001b[0m \u001b[1;33m\u001b[0m\u001b[0m\n\u001b[0;32m     55\u001b[0m             \u001b[0malpha\u001b[0m \u001b[1;33m=\u001b[0m \u001b[0mPDLSSVM\u001b[0m\u001b[1;33m.\u001b[0m\u001b[0mshrinkage\u001b[0m\u001b[1;33m(\u001b[0m\u001b[0mself\u001b[0m\u001b[1;33m.\u001b[0m\u001b[0mc2\u001b[0m \u001b[1;33m/\u001b[0m \u001b[0mself\u001b[0m\u001b[1;33m.\u001b[0m\u001b[0mrho\u001b[0m \u001b[1;33m*\u001b[0m \u001b[0me\u001b[0m\u001b[1;33m,\u001b[0m \u001b[0mbeta\u001b[0m \u001b[1;33m-\u001b[0m \u001b[0mu2\u001b[0m\u001b[1;33m)\u001b[0m\u001b[1;33m\u001b[0m\u001b[1;33m\u001b[0m\u001b[0m\n\u001b[1;32m---> 56\u001b[1;33m             \u001b[0mbeta\u001b[0m  \u001b[1;33m=\u001b[0m \u001b[0mP_inv\u001b[0m \u001b[1;33m*\u001b[0m \u001b[0mself\u001b[0m\u001b[1;33m.\u001b[0m\u001b[0mrho\u001b[0m \u001b[1;33m@\u001b[0m \u001b[1;33m(\u001b[0m\u001b[0malpha\u001b[0m \u001b[1;33m+\u001b[0m \u001b[0mu2\u001b[0m \u001b[1;33m+\u001b[0m \u001b[0mB\u001b[0m\u001b[1;33m.\u001b[0m\u001b[0mT\u001b[0m \u001b[1;33m@\u001b[0m \u001b[0mz\u001b[0m \u001b[1;33m+\u001b[0m \u001b[0mB\u001b[0m\u001b[1;33m.\u001b[0m\u001b[0mT\u001b[0m \u001b[1;33m@\u001b[0m \u001b[0mu3\u001b[0m \u001b[1;33m+\u001b[0m \u001b[1;36m1\u001b[0m \u001b[1;33m/\u001b[0m \u001b[0mself\u001b[0m\u001b[1;33m.\u001b[0m\u001b[0mrho\u001b[0m \u001b[1;33m*\u001b[0m \u001b[0me\u001b[0m\u001b[1;33m)\u001b[0m\u001b[1;33m\u001b[0m\u001b[1;33m\u001b[0m\u001b[0m\n\u001b[0m\u001b[0;32m     57\u001b[0m \u001b[1;33m\u001b[0m\u001b[0m\n\u001b[0;32m     58\u001b[0m             \u001b[0mu1\u001b[0m    \u001b[1;33m=\u001b[0m \u001b[0mu1\u001b[0m \u001b[1;33m+\u001b[0m \u001b[1;33m(\u001b[0m\u001b[0mw\u001b[0m \u001b[1;33m-\u001b[0m \u001b[0mz\u001b[0m\u001b[1;33m)\u001b[0m\u001b[1;33m\u001b[0m\u001b[1;33m\u001b[0m\u001b[0m\n",
      "\u001b[1;31mKeyboardInterrupt\u001b[0m: "
     ]
    }
   ],
   "source": [
    "rho_search_space = [1e-5, 1e-4]\n",
    "c_search_space   = [1e-8, 1e-6, 1e-4, 1e-2, 1e+2, 1e+4, 1e+6, 1e+8]\n",
    "c1_search_space  = [1e-8, 1e-6, 1e-4, 1e-2, 1e+2, 1e+4, 1e+6, 1e+8]\n",
    "c2_search_space  = [1e-8, 1e-6, 1e-4, 1e-2, 1e+2, 1e+4, 1e+6, 1e+8]\n",
    "\n",
    "results_dict = {\"rho\":[], \"c\": [], \"c1\": [], \"c2\": [], \"Acc\": []}\n",
    "\n",
    "for rho in tqdm(rho_search_space):\n",
    "    for c in c_search_space:\n",
    "        for c1 in c1_search_space:\n",
    "            for c2 in c2_search_space:\n",
    "                cv_acc = []\n",
    "                for train_index, val_index in kf.split(X):\n",
    "                    X_train, X_val = X[train_index], X[val_index]\n",
    "                    y_train, y_val = y[train_index], y[val_index]\n",
    "                \n",
    "                    clf = PDLSSVM(rho, c, c1, c2)\n",
    "                    clf.fit(X_train, y_train)\n",
    "                    pred, _, _ = clf.predict(X_val)\n",
    "                    acc = accuracy_score(y_val, pred)\n",
    "                    cv_acc.append(acc)\n",
    "                \n",
    "                cv_acc = np.mean(cv_acc)\n",
    "                results_dict['rho'].append(rho)\n",
    "                results_dict['c'].append(c)\n",
    "                results_dict['c1'].append(c1)\n",
    "                results_dict['c2'].append(c2)\n",
    "                results_dict['Acc'].append(cv_acc)\n",
    "                \n",
    "results_df = pd.DataFrame.from_dict(results_dict)\n",
    "results_df"
   ]
  },
  {
   "cell_type": "code",
   "execution_count": null,
   "id": "a0656836",
   "metadata": {},
   "outputs": [],
   "source": [
    "results_df.sort_values('Acc', ascending=False)"
   ]
  },
  {
   "cell_type": "code",
   "execution_count": null,
   "id": "bbe2951d",
   "metadata": {
    "scrolled": false
   },
   "outputs": [],
   "source": [
    "#PDLSSVM\n",
    "rho = 1e-3\n",
    "c   = 1e+8\n",
    "c1  = 1e-8\n",
    "c2  = 1e-8\n",
    "\n",
    "clf = PDLSSVM(rho, c, c1, c2)\n",
    "clf.fit(X, y, verbose=True)\n",
    "pred, _, _ = clf.predict(X_test, verbose=True)\n",
    "# confusion_matrix(y_test, pred)\n",
    "accuracy_score(y_test, pred)"
   ]
  },
  {
   "cell_type": "code",
   "execution_count": null,
   "id": "36785c4d",
   "metadata": {
    "scrolled": true
   },
   "outputs": [],
   "source": [
    "# LSSVM\n",
    "rho = 1e-4\n",
    "c   = 1e+5\n",
    "c1  = 0\n",
    "c2  = 0\n",
    "\n",
    "clf = PDLSSVM(rho, c, c1, c2)\n",
    "clf.fit(X, y, verbose=True)\n",
    "pred, _, _ = clf.predict(X_test, verbose=True)\n",
    "# confusion_matrix(y_test, pred)\n",
    "accuracy_score(y_test, pred)"
   ]
  },
  {
   "cell_type": "code",
   "execution_count": null,
   "id": "4fa136fa",
   "metadata": {},
   "outputs": [],
   "source": [
    "from sklearn.svm import SVC\n",
    "\n",
    "clf = SVC()\n",
    "clf.fit(X, y)\n",
    "pred = clf.predict(X_test)\n",
    "# confusion_matrix(y_test, pred)\n",
    "accuracy_score(y_test, pred)"
   ]
  },
  {
   "cell_type": "markdown",
   "id": "52348468",
   "metadata": {},
   "source": [
    "# sonar dataset"
   ]
  },
  {
   "cell_type": "code",
   "execution_count": null,
   "id": "9faa0bef",
   "metadata": {},
   "outputs": [],
   "source": [
    "df = pd.read_table(\"data/sonar.all-data\", sep=\",\", header=None)\n",
    "\n",
    "X = df.iloc[:, :-1].values\n",
    "y = df.iloc[:, -1].valuesa\n",
    "\n",
    "y[np.isin(y, \"R\")] = -1\n",
    "y[np.isin(y, \"M\")] = 1\n",
    "y = np.expand_dims(y, -1).astype('int64')\n",
    "\n",
    "X, X_test, y, y_test = train_test_split(X, y, test_size=0.2, random_state=1234, stratify=y)"
   ]
  },
  {
   "cell_type": "code",
   "execution_count": null,
   "id": "a168e932",
   "metadata": {
    "scrolled": true
   },
   "outputs": [],
   "source": [
    "rho_search_space = [1e-5, 1e-4]\n",
    "c_search_space   = [1e-8, 1e-6, 1e-4, 1e-2, 1e+2, 1e+4, 1e+6, 1e+8]\n",
    "c1_search_space  = [1e-8, 1e-6, 1e-4, 1e-2, 1e+2, 1e+4, 1e+6, 1e+8]\n",
    "c2_search_space  = [1e-8, 1e-6, 1e-4, 1e-2, 1e+2, 1e+4, 1e+6, 1e+8]\n",
    "\n",
    "results_dict = {\"rho\":[], \"c\": [], \"c1\": [], \"c2\": [], \"Acc\": []}\n",
    "kf = KFold(n_splits=5, shuffle=True, random_state=1234)\n",
    "\n",
    "for rho in tqdm(rho_search_space):\n",
    "    for c in c_search_space:\n",
    "        for c1 in c1_search_space:\n",
    "            for c2 in c2_search_space:\n",
    "                cv_acc = []\n",
    "                for train_index, val_index in kf.split(X):\n",
    "                    X_train, X_val = X[train_index], X[val_index]\n",
    "                    y_train, y_val = y[train_index], y[val_index]\n",
    "                \n",
    "                    clf = PDLSSVM(rho, c, c1, c2)\n",
    "                    clf.fit(X_train, y_train)\n",
    "                    pred, _, _ = clf.predict(X_val)\n",
    "                    pred.astype('int64')\n",
    "                    \n",
    "                    acc = accuracy_score(y_val, pred)1\n",
    "                    cv_acc.append(acc)\n",
    "                \n",
    "                cv_acc = np.mean(cv_acc)\n",
    "                results_dict['rho'].append(rho)\n",
    "                results_dict['c'].append(c)\n",
    "                results_dict['c1'].append(c1)\n",
    "                results_dict['c2'].append(c2)\n",
    "                results_dict['Acc'].append(cv_acc)\n",
    "                \n",
    "results_df = pd.DataFrame.from_dict(results_dict)\n",
    "results_df"
   ]
  },
  {
   "cell_type": "code",
   "execution_count": null,
   "id": "06310c11",
   "metadata": {
    "scrolled": true
   },
   "outputs": [],
   "source": [
    "results_df.sort_values('Acc', ascending=False)"
   ]
  },
  {
   "cell_type": "code",
   "execution_count": null,
   "id": "bc2f7743",
   "metadata": {},
   "outputs": [],
   "source": [
    "#PDLSSVM\n",
    "rho = 1e-5\n",
    "c   = 1e+4\n",
    "c1  = 1e+3\n",
    "c2  = 1e-2\n",
    "\n",
    "clf = PDLSSVM(rho, c, c1, c2)\n",
    "clf.fit(X, y, verbose=True)\n",
    "pred, _, _ = clf.predict(X_test, verbose=True)\n",
    "# confusion_matrix(y_test, pred)\n",
    "accuracy_score(y_test, pred)"
   ]
  },
  {
   "cell_type": "code",
   "execution_count": null,
   "id": "a4111495",
   "metadata": {},
   "outputs": [],
   "source": [
    "# LSSVM\n",
    "rho = 1e-5\n",
    "c   = 1e+4\n",
    "c1  = 0\n",
    "c2  = 0\n",
    "\n",
    "clf = PDLSSVM(rho, c, c1, c2)\n",
    "clf.fit(X, y, verbose=True)\n",
    "pred, _, _ = clf.predict(X_test, verbose=True)\n",
    "# confusion_matrix(y_test, pred)\n",
    "accuracy_score(y_test, pred)"
   ]
  },
  {
   "cell_type": "code",
   "execution_count": null,
   "id": "e6eb61aa",
   "metadata": {},
   "outputs": [],
   "source": [
    "clf = SVC()\n",
    "clf.fit(X, y)\n",
    "pred = clf.predict(X_test)\n",
    "# confusion_matrix(y_test, pred)\n",
    "accuracy_score(y_test, pred)"
   ]
  },
  {
   "cell_type": "markdown",
   "id": "5845d034",
   "metadata": {},
   "source": [
    "# dbworld dataset"
   ]
  },
  {
   "cell_type": "code",
   "execution_count": null,
   "id": "672c3e57",
   "metadata": {},
   "outputs": [],
   "source": [
    "data = np.load(\"data/dbworld.npy\")\n",
    "X = data[:, :-1]\n",
    "y = data[:, -1]\n",
    "\n",
    "X, X_test, y, y_test = train_test_split(X, y, test_size=0.2, random_state=1234, stratify=y)"
   ]
  },
  {
   "cell_type": "code",
   "execution_count": null,
   "id": "b7c0a994",
   "metadata": {},
   "outputs": [],
   "source": [
    "rho_search_space = [1e-5, 1e-4]\n",
    "c_search_space   = [1e-8, 1e-6, 1e-4, 1e-2, 1e+2, 1e+4, 1e+6, 1e+8]\n",
    "c1_search_space  = [1e-8, 1e-6, 1e-4, 1e-2, 1e+2, 1e+4, 1e+6, 1e+8]\n",
    "c2_search_space  = [1e-8, 1e-6, 1e-4, 1e-2, 1e+2, 1e+4, 1e+6, 1e+8]\n",
    "\n",
    "results_dict = {\"rho\":[], \"c\": [], \"c1\": [], \"c2\": [], \"Acc\": []}\n",
    "kf = KFold(n_splits=5, shuffle=True, random_state=1234)\n",
    "\n",
    "for rho in tqdm(rho_search_space):\n",
    "    for c in c_search_space:\n",
    "        for c1 in c1_search_space:\n",
    "            for c2 in c2_search_space:\n",
    "                cv_acc = []\n",
    "                for train_index, val_index in kf.split(X):\n",
    "                    X_train, X_val = X[train_index], X[val_index]\n",
    "                    y_train, y_val = y[train_index], y[val_index]\n",
    "                \n",
    "                    clf = PDLSSVM(rho, c, c1, c2)\n",
    "                    clf.fit(X_train, y_train)\n",
    "                    pred, _, _ = clf.predict(X_val)\n",
    "                    pred.astype('int64')\n",
    "                    \n",
    "                    acc = accuracy_score(y_val, pred)\n",
    "                    cv_acc.append(acc)\n",
    "                \n",
    "                cv_acc = np.mean(cv_acc)\n",
    "                results_dict['rho'].append(rho)\n",
    "                results_dict['c'].append(c)\n",
    "                results_dict['c1'].append(c1)\n",
    "                results_dict['c2'].append(c2)\n",
    "                results_dict['Acc'].append(cv_acc)\n",
    "                \n",
    "results_df = pd.DataFrame.from_dict(results_dict)\n",
    "results_df"
   ]
  },
  {
   "cell_type": "code",
   "execution_count": null,
   "id": "8b835104",
   "metadata": {},
   "outputs": [],
   "source": [
    "results_df.sort_values('Acc', ascending=False)"
   ]
  },
  {
   "cell_type": "code",
   "execution_count": null,
   "id": "b277eaea",
   "metadata": {},
   "outputs": [],
   "source": [
    "#PDLSSVM\n",
    "rho = 1e-3\n",
    "c   = 1e-3\n",
    "c1  = 1e-5\n",
    "c2  = 1e-5\n",
    "\n",
    "clf = PDLSSVM(rho, c, c1, c2)\n",
    "clf.fit(X, y, verbose=True)\n",
    "pred, _, _ = clf.predict(X_test, verbose=True)\n",
    "# confusion_matrix(y_test, pred)\n",
    "accuracy_score(y_test, pred)"
   ]
  },
  {
   "cell_type": "code",
   "execution_count": null,
   "id": "18d7f3a2",
   "metadata": {},
   "outputs": [],
   "source": [
    "#LSSVM\n",
    "rho = 1e-3\n",
    "c   = 1e-3\n",
    "c1  = 0\n",
    "c2  = 0\n",
    "\n",
    "clf = PDLSSVM(rho, c, c1, c2)\n",
    "clf.fit(X, y, verbose=True)\n",
    "pred, _, _ = clf.predict(X_test, verbose=True)\n",
    "# confusion_matrix(y_test, pred)\n",
    "accuracy_score(y_test, pred)"
   ]
  },
  {
   "cell_type": "code",
   "execution_count": null,
   "id": "01f4e3b8",
   "metadata": {},
   "outputs": [],
   "source": [
    "from sklearn.svm import SVC\n",
    "\n",
    "clf = SVC()\n",
    "clf.fit(X, y)\n",
    "pred = clf.predict(X_test)\n",
    "# confusion_matrix(y_test, pred)\n",
    "accuracy_score(y_test, pred)"
   ]
  },
  {
   "cell_type": "markdown",
   "id": "588928e3",
   "metadata": {},
   "source": [
    "# heart attack"
   ]
  },
  {
   "cell_type": "code",
   "execution_count": null,
   "id": "c14cdea6",
   "metadata": {},
   "outputs": [],
   "source": [
    "data = pd.read_csv(\"data/heart_attack.csv\")\n",
    "X = data.iloc[:, :-1].values\n",
    "y = data.iloc[:, -1].values\n",
    "\n",
    "X, X_test, y, y_test = train_test_split(X, y, test_size=0.2, random_state=1234, shuffle=True, stratify=y)"
   ]
  },
  {
   "cell_type": "code",
   "execution_count": null,
   "id": "56f0126e",
   "metadata": {},
   "outputs": [],
   "source": [
    "rho_search_space = [1e-5, 1e-4]\n",
    "c_search_space   = [1e-8, 1e-6, 1e-4, 1e-2, 1e+2, 1e+4, 1e+6, 1e+8]\n",
    "c1_search_space  = [1e-8, 1e-6, 1e-4, 1e-2, 1e+2, 1e+4, 1e+6, 1e+8]\n",
    "c2_search_space  = [1e-8, 1e-6, 1e-4, 1e-2, 1e+2, 1e+4, 1e+6, 1e+8]\n",
    "\n",
    "results_dict = {\"rho\":[], \"c\": [], \"c1\": [], \"c2\": [], \"Acc\": []}\n",
    "kf = KFold(n_splits=5, shuffle=True, random_state=1234)\n",
    "\n",
    "for rho in tqdm(rho_search_space):\n",
    "    for c in c_search_space:\n",
    "        for c1 in c1_search_space:\n",
    "            for c2 in c2_search_space:\n",
    "                cv_acc = []\n",
    "                for train_index, val_index in kf.split(X):\n",
    "                    X_train, X_val = X[train_index], X[val_index]\n",
    "                    y_train, y_val = y[train_index], y[val_index]\n",
    "                \n",
    "                    clf = PDLSSVM(rho, c, c1, c2)\n",
    "                    clf.fit(X_train, y_train)\n",
    "                    pred, _, _ = clf.predict(X_val)\n",
    "                    pred.astype('int64')\n",
    "                    \n",
    "                    acc = accuracy_score(y_val, pred)\n",
    "                    cv_acc.append(acc)\n",
    "                \n",
    "                cv_acc = np.mean(cv_acc)\n",
    "                results_dict['rho'].append(rho)\n",
    "                results_dict['c'].append(c)\n",
    "                results_dict['c1'].append(c1)\n",
    "                results_dict['c2'].append(c2)\n",
    "                results_dict['Acc'].append(cv_acc)\n",
    "                \n",
    "results_df = pd.DataFrame.from_dict(results_dict)\n",
    "results_df"
   ]
  },
  {
   "cell_type": "code",
   "execution_count": null,
   "id": "d33d9d27",
   "metadata": {},
   "outputs": [],
   "source": [
    "results_df.sort_values('Acc', ascending=False)"
   ]
  },
  {
   "cell_type": "code",
   "execution_count": null,
   "id": "dde5e2de",
   "metadata": {},
   "outputs": [],
   "source": [
    "#PDLSSVM\n",
    "rho = 1e-3\n",
    "c   = 1e-3\n",
    "c1  = 1e-5\n",
    "c2  = 1e-5\n",
    "\n",
    "clf = PDLSSVM(rho, c, c1, c2)\n",
    "clf.fit(X, y, verbose=True)\n",
    "pred, _, _ = clf.predict(X_test, verbose=True)\n",
    "# confusion_matrix(y_test, pred)\n",
    "accuracy_score(y_test, pred)"
   ]
  }
 ],
 "metadata": {
  "kernelspec": {
   "display_name": "Python 3",
   "language": "python",
   "name": "python3"
  },
  "language_info": {
   "codemirror_mode": {
    "name": "ipython",
    "version": 3
   },
   "file_extension": ".py",
   "mimetype": "text/x-python",
   "name": "python",
   "nbconvert_exporter": "python",
   "pygments_lexer": "ipython3",
   "version": "3.9.1"
  }
 },
 "nbformat": 4,
 "nbformat_minor": 5
}
