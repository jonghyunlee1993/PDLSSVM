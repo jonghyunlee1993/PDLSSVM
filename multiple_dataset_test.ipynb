{
 "cells": [
  {
   "cell_type": "code",
   "execution_count": 11,
   "id": "14bc1f75",
   "metadata": {},
   "outputs": [],
   "source": [
    "import numpy as np\n",
    "import pandas as pd\n",
    "from tqdm.notebook import tqdm\n",
    "from src.PDLSSVM import PDLSSVM\n",
    "from sklearn.datasets import load_iris\n",
    "from sklearn.model_selection import train_test_split, KFold\n",
    "from sklearn.metrics import confusion_matrix, accuracy_score\n",
    "\n",
    "kf = KFold(n_splits=5, shuffle=True, random_state=1234)"
   ]
  },
  {
   "cell_type": "markdown",
   "id": "9a7e9d11",
   "metadata": {},
   "source": [
    "# iris dataset"
   ]
  },
  {
   "cell_type": "code",
   "execution_count": 16,
   "id": "0a3348fc",
   "metadata": {
    "scrolled": false
   },
   "outputs": [
    {
     "data": {
      "application/vnd.jupyter.widget-view+json": {
       "model_id": "9ef85245a34f4f5b8e00a538c63110fa",
       "version_major": 2,
       "version_minor": 0
      },
      "text/plain": [
       "  0%|          | 0/4 [00:00<?, ?it/s]"
      ]
     },
     "metadata": {},
     "output_type": "display_data"
    },
    {
     "data": {
      "text/html": [
       "<div>\n",
       "<style scoped>\n",
       "    .dataframe tbody tr th:only-of-type {\n",
       "        vertical-align: middle;\n",
       "    }\n",
       "\n",
       "    .dataframe tbody tr th {\n",
       "        vertical-align: top;\n",
       "    }\n",
       "\n",
       "    .dataframe thead th {\n",
       "        text-align: right;\n",
       "    }\n",
       "</style>\n",
       "<table border=\"1\" class=\"dataframe\">\n",
       "  <thead>\n",
       "    <tr style=\"text-align: right;\">\n",
       "      <th></th>\n",
       "      <th>rho</th>\n",
       "      <th>c</th>\n",
       "      <th>c1</th>\n",
       "      <th>c2</th>\n",
       "      <th>Acc</th>\n",
       "    </tr>\n",
       "  </thead>\n",
       "  <tbody>\n",
       "    <tr>\n",
       "      <th>0</th>\n",
       "      <td>0.000001</td>\n",
       "      <td>1.000000e-08</td>\n",
       "      <td>1.000000e-08</td>\n",
       "      <td>1.000000e-08</td>\n",
       "      <td>0.8375</td>\n",
       "    </tr>\n",
       "    <tr>\n",
       "      <th>1</th>\n",
       "      <td>0.000001</td>\n",
       "      <td>1.000000e-08</td>\n",
       "      <td>1.000000e-08</td>\n",
       "      <td>1.000000e-07</td>\n",
       "      <td>0.8375</td>\n",
       "    </tr>\n",
       "    <tr>\n",
       "      <th>2</th>\n",
       "      <td>0.000001</td>\n",
       "      <td>1.000000e-08</td>\n",
       "      <td>1.000000e-08</td>\n",
       "      <td>1.000000e-06</td>\n",
       "      <td>0.8375</td>\n",
       "    </tr>\n",
       "    <tr>\n",
       "      <th>3</th>\n",
       "      <td>0.000001</td>\n",
       "      <td>1.000000e-08</td>\n",
       "      <td>1.000000e-08</td>\n",
       "      <td>1.000000e-05</td>\n",
       "      <td>0.8375</td>\n",
       "    </tr>\n",
       "    <tr>\n",
       "      <th>4</th>\n",
       "      <td>0.000001</td>\n",
       "      <td>1.000000e-08</td>\n",
       "      <td>1.000000e-08</td>\n",
       "      <td>1.000000e-04</td>\n",
       "      <td>0.8375</td>\n",
       "    </tr>\n",
       "    <tr>\n",
       "      <th>...</th>\n",
       "      <td>...</td>\n",
       "      <td>...</td>\n",
       "      <td>...</td>\n",
       "      <td>...</td>\n",
       "      <td>...</td>\n",
       "    </tr>\n",
       "    <tr>\n",
       "      <th>16379</th>\n",
       "      <td>0.001000</td>\n",
       "      <td>1.000000e+08</td>\n",
       "      <td>1.000000e+08</td>\n",
       "      <td>1.000000e+04</td>\n",
       "      <td>1.0000</td>\n",
       "    </tr>\n",
       "    <tr>\n",
       "      <th>16380</th>\n",
       "      <td>0.001000</td>\n",
       "      <td>1.000000e+08</td>\n",
       "      <td>1.000000e+08</td>\n",
       "      <td>1.000000e+05</td>\n",
       "      <td>1.0000</td>\n",
       "    </tr>\n",
       "    <tr>\n",
       "      <th>16381</th>\n",
       "      <td>0.001000</td>\n",
       "      <td>1.000000e+08</td>\n",
       "      <td>1.000000e+08</td>\n",
       "      <td>1.000000e+06</td>\n",
       "      <td>1.0000</td>\n",
       "    </tr>\n",
       "    <tr>\n",
       "      <th>16382</th>\n",
       "      <td>0.001000</td>\n",
       "      <td>1.000000e+08</td>\n",
       "      <td>1.000000e+08</td>\n",
       "      <td>1.000000e+07</td>\n",
       "      <td>1.0000</td>\n",
       "    </tr>\n",
       "    <tr>\n",
       "      <th>16383</th>\n",
       "      <td>0.001000</td>\n",
       "      <td>1.000000e+08</td>\n",
       "      <td>1.000000e+08</td>\n",
       "      <td>1.000000e+08</td>\n",
       "      <td>1.0000</td>\n",
       "    </tr>\n",
       "  </tbody>\n",
       "</table>\n",
       "<p>16384 rows × 5 columns</p>\n",
       "</div>"
      ],
      "text/plain": [
       "            rho             c            c1            c2     Acc\n",
       "0      0.000001  1.000000e-08  1.000000e-08  1.000000e-08  0.8375\n",
       "1      0.000001  1.000000e-08  1.000000e-08  1.000000e-07  0.8375\n",
       "2      0.000001  1.000000e-08  1.000000e-08  1.000000e-06  0.8375\n",
       "3      0.000001  1.000000e-08  1.000000e-08  1.000000e-05  0.8375\n",
       "4      0.000001  1.000000e-08  1.000000e-08  1.000000e-04  0.8375\n",
       "...         ...           ...           ...           ...     ...\n",
       "16379  0.001000  1.000000e+08  1.000000e+08  1.000000e+04  1.0000\n",
       "16380  0.001000  1.000000e+08  1.000000e+08  1.000000e+05  1.0000\n",
       "16381  0.001000  1.000000e+08  1.000000e+08  1.000000e+06  1.0000\n",
       "16382  0.001000  1.000000e+08  1.000000e+08  1.000000e+07  1.0000\n",
       "16383  0.001000  1.000000e+08  1.000000e+08  1.000000e+08  1.0000\n",
       "\n",
       "[16384 rows x 5 columns]"
      ]
     },
     "execution_count": 16,
     "metadata": {},
     "output_type": "execute_result"
    }
   ],
   "source": [
    "from tqdm.notebook import tqdm\n",
    "\n",
    "iris = load_iris()\n",
    "X = iris['data'][:100]\n",
    "y = iris['target'][:100]\n",
    "y[:50] = -1\n",
    "\n",
    "X, X_test, y, y_test = train_test_split(X, y, test_size=0.2, random_state=1234)\n",
    "\n",
    "rho_search_space = [1e-6, 1e-5, 1e-4, 1e-3]\n",
    "c_search_space   = [1e-8, 1e-7, 1e-6, 1e-5, 1e-4, 1e-3, 1e-2, 1e-1, 1e+1, 1e+2, 1e+3, 1e+4, 1e+5, 1e+6, 1e+7, 1e+8]\n",
    "c1_search_space  = [1e-8, 1e-7, 1e-6, 1e-5, 1e-4, 1e-3, 1e-2, 1e-1, 1e+1, 1e+2, 1e+3, 1e+4, 1e+5, 1e+6, 1e+7, 1e+8]\n",
    "c2_search_space  = [1e-8, 1e-7, 1e-6, 1e-5, 1e-4, 1e-3, 1e-2, 1e-1, 1e+1, 1e+2, 1e+3, 1e+4, 1e+5, 1e+6, 1e+7, 1e+8]\n",
    "\n",
    "# rho_search_space = [1e-4]\n",
    "# c_search_space   = [1e+5]\n",
    "# c1_search_space  = [1e-7]\n",
    "# c2_search_space  = [1e-8]\n",
    "\n",
    "results_dict = {\"rho\":[], \"c\": [], \"c1\": [], \"c2\": [], \"Acc\": []}\n",
    "\n",
    "for rho in tqdm(rho_search_space):\n",
    "    for c in c_search_space:\n",
    "        for c1 in c1_search_space:\n",
    "            for c2 in c2_search_space:\n",
    "                cv_acc = []\n",
    "                for train_index, val_index in kf.split(X):\n",
    "                    X_train, X_val = X[train_index], X[val_index]\n",
    "                    y_train, y_val = y[train_index], y[val_index]\n",
    "                \n",
    "                    clf = PDLSSVM(rho, c, c1, c2)\n",
    "                    clf.fit(X_train, y_train)\n",
    "                    pred, _, _ = clf.predict(X_val)\n",
    "                    acc = accuracy_score(y_val, pred)\n",
    "                    cv_acc.append(acc)\n",
    "                \n",
    "                cv_acc = np.mean(cv_acc)\n",
    "                results_dict['rho'].append(rho)\n",
    "                results_dict['c'].append(c)\n",
    "                results_dict['c1'].append(c1)\n",
    "                results_dict['c2'].append(c2)\n",
    "                results_dict['Acc'].append(cv_acc)\n",
    "                \n",
    "results_df = pd.DataFrame.from_dict(results_dict)\n",
    "results_df"
   ]
  },
  {
   "cell_type": "code",
   "execution_count": 17,
   "id": "a0656836",
   "metadata": {},
   "outputs": [
    {
     "data": {
      "text/html": [
       "<div>\n",
       "<style scoped>\n",
       "    .dataframe tbody tr th:only-of-type {\n",
       "        vertical-align: middle;\n",
       "    }\n",
       "\n",
       "    .dataframe tbody tr th {\n",
       "        vertical-align: top;\n",
       "    }\n",
       "\n",
       "    .dataframe thead th {\n",
       "        text-align: right;\n",
       "    }\n",
       "</style>\n",
       "<table border=\"1\" class=\"dataframe\">\n",
       "  <thead>\n",
       "    <tr style=\"text-align: right;\">\n",
       "      <th></th>\n",
       "      <th>rho</th>\n",
       "      <th>c</th>\n",
       "      <th>c1</th>\n",
       "      <th>c2</th>\n",
       "      <th>Acc</th>\n",
       "    </tr>\n",
       "  </thead>\n",
       "  <tbody>\n",
       "    <tr>\n",
       "      <th>16383</th>\n",
       "      <td>0.00100</td>\n",
       "      <td>1.000000e+08</td>\n",
       "      <td>1.000000e+08</td>\n",
       "      <td>1.000000e+08</td>\n",
       "      <td>1.0000</td>\n",
       "    </tr>\n",
       "    <tr>\n",
       "      <th>12223</th>\n",
       "      <td>0.00010</td>\n",
       "      <td>1.000000e+08</td>\n",
       "      <td>1.000000e+04</td>\n",
       "      <td>1.000000e+08</td>\n",
       "      <td>1.0000</td>\n",
       "    </tr>\n",
       "    <tr>\n",
       "      <th>6334</th>\n",
       "      <td>0.00001</td>\n",
       "      <td>1.000000e+01</td>\n",
       "      <td>1.000000e+04</td>\n",
       "      <td>1.000000e+07</td>\n",
       "      <td>1.0000</td>\n",
       "    </tr>\n",
       "    <tr>\n",
       "      <th>6335</th>\n",
       "      <td>0.00001</td>\n",
       "      <td>1.000000e+01</td>\n",
       "      <td>1.000000e+04</td>\n",
       "      <td>1.000000e+08</td>\n",
       "      <td>1.0000</td>\n",
       "    </tr>\n",
       "    <tr>\n",
       "      <th>12227</th>\n",
       "      <td>0.00010</td>\n",
       "      <td>1.000000e+08</td>\n",
       "      <td>1.000000e+05</td>\n",
       "      <td>1.000000e-05</td>\n",
       "      <td>1.0000</td>\n",
       "    </tr>\n",
       "    <tr>\n",
       "      <th>...</th>\n",
       "      <td>...</td>\n",
       "      <td>...</td>\n",
       "      <td>...</td>\n",
       "      <td>...</td>\n",
       "      <td>...</td>\n",
       "    </tr>\n",
       "    <tr>\n",
       "      <th>8645</th>\n",
       "      <td>0.00010</td>\n",
       "      <td>1.000000e-07</td>\n",
       "      <td>1.000000e+05</td>\n",
       "      <td>1.000000e-03</td>\n",
       "      <td>0.4625</td>\n",
       "    </tr>\n",
       "    <tr>\n",
       "      <th>8646</th>\n",
       "      <td>0.00010</td>\n",
       "      <td>1.000000e-07</td>\n",
       "      <td>1.000000e+05</td>\n",
       "      <td>1.000000e-02</td>\n",
       "      <td>0.4625</td>\n",
       "    </tr>\n",
       "    <tr>\n",
       "      <th>8647</th>\n",
       "      <td>0.00010</td>\n",
       "      <td>1.000000e-07</td>\n",
       "      <td>1.000000e+05</td>\n",
       "      <td>1.000000e-01</td>\n",
       "      <td>0.4625</td>\n",
       "    </tr>\n",
       "    <tr>\n",
       "      <th>8648</th>\n",
       "      <td>0.00010</td>\n",
       "      <td>1.000000e-07</td>\n",
       "      <td>1.000000e+05</td>\n",
       "      <td>1.000000e+01</td>\n",
       "      <td>0.4625</td>\n",
       "    </tr>\n",
       "    <tr>\n",
       "      <th>13378</th>\n",
       "      <td>0.00100</td>\n",
       "      <td>1.000000e-04</td>\n",
       "      <td>1.000000e-04</td>\n",
       "      <td>1.000000e-06</td>\n",
       "      <td>0.4625</td>\n",
       "    </tr>\n",
       "  </tbody>\n",
       "</table>\n",
       "<p>16384 rows × 5 columns</p>\n",
       "</div>"
      ],
      "text/plain": [
       "           rho             c            c1            c2     Acc\n",
       "16383  0.00100  1.000000e+08  1.000000e+08  1.000000e+08  1.0000\n",
       "12223  0.00010  1.000000e+08  1.000000e+04  1.000000e+08  1.0000\n",
       "6334   0.00001  1.000000e+01  1.000000e+04  1.000000e+07  1.0000\n",
       "6335   0.00001  1.000000e+01  1.000000e+04  1.000000e+08  1.0000\n",
       "12227  0.00010  1.000000e+08  1.000000e+05  1.000000e-05  1.0000\n",
       "...        ...           ...           ...           ...     ...\n",
       "8645   0.00010  1.000000e-07  1.000000e+05  1.000000e-03  0.4625\n",
       "8646   0.00010  1.000000e-07  1.000000e+05  1.000000e-02  0.4625\n",
       "8647   0.00010  1.000000e-07  1.000000e+05  1.000000e-01  0.4625\n",
       "8648   0.00010  1.000000e-07  1.000000e+05  1.000000e+01  0.4625\n",
       "13378  0.00100  1.000000e-04  1.000000e-04  1.000000e-06  0.4625\n",
       "\n",
       "[16384 rows x 5 columns]"
      ]
     },
     "execution_count": 17,
     "metadata": {},
     "output_type": "execute_result"
    }
   ],
   "source": [
    "results_df.sort_values('Acc', ascending=False)"
   ]
  },
  {
   "cell_type": "code",
   "execution_count": 18,
   "id": "bbe2951d",
   "metadata": {
    "scrolled": false
   },
   "outputs": [
    {
     "name": "stdout",
     "output_type": "stream",
     "text": [
      "Training Done\n",
      "Total Running Time: 0.0494\n",
      "Prediction Done\n",
      "Total Running Time: 0.0004\n"
     ]
    },
    {
     "data": {
      "text/plain": [
       "array([[ 7,  0],\n",
       "       [ 0, 13]])"
      ]
     },
     "execution_count": 18,
     "metadata": {},
     "output_type": "execute_result"
    }
   ],
   "source": [
    "#PDLSSVM\n",
    "rho = 1e-3\n",
    "c   = 1e+8\n",
    "c1  = 1e-8\n",
    "c2  = 1e-8\n",
    "\n",
    "clf = PDLSSVM(rho, c, c1, c2)\n",
    "clf.fit(X, y, verbose=True)\n",
    "pred, _, _ = clf.predict(X_test, verbose=True)\n",
    "# confusion_matrix(y_test, pred)\n",
    "accuracy_score(y_test, pred)"
   ]
  },
  {
   "cell_type": "code",
   "execution_count": 21,
   "id": "36785c4d",
   "metadata": {
    "scrolled": true
   },
   "outputs": [
    {
     "name": "stdout",
     "output_type": "stream",
     "text": [
      "Training Done\n",
      "Total Running Time: 0.0743\n",
      "Prediction Done\n",
      "Total Running Time: 0.0003\n"
     ]
    },
    {
     "data": {
      "text/plain": [
       "1.0"
      ]
     },
     "execution_count": 21,
     "metadata": {},
     "output_type": "execute_result"
    }
   ],
   "source": [
    "# LSSVM\n",
    "rho = 1e-4\n",
    "c   = 1e+5\n",
    "c1  = 0\n",
    "c2  = 0\n",
    "\n",
    "clf = PDLSSVM(rho, c, c1, c2)\n",
    "clf.fit(X, y, verbose=True)\n",
    "pred, _, _ = clf.predict(X_test, verbose=True)\n",
    "# confusion_matrix(y_test, pred)\n",
    "accuracy_score(y_test, pred)"
   ]
  },
  {
   "cell_type": "code",
   "execution_count": 22,
   "id": "4fa136fa",
   "metadata": {},
   "outputs": [
    {
     "data": {
      "text/plain": [
       "1.0"
      ]
     },
     "execution_count": 22,
     "metadata": {},
     "output_type": "execute_result"
    }
   ],
   "source": [
    "from sklearn.svm import SVC\n",
    "\n",
    "clf = SVC()\n",
    "clf.fit(X, y)\n",
    "pred = clf.predict(X_test)\n",
    "# confusion_matrix(y_test, pred)\n",
    "accuracy_score(y_test, pred)"
   ]
  },
  {
   "cell_type": "markdown",
   "id": "52348468",
   "metadata": {},
   "source": [
    "# sonar dataset"
   ]
  },
  {
   "cell_type": "code",
   "execution_count": 23,
   "id": "9faa0bef",
   "metadata": {},
   "outputs": [],
   "source": [
    "df = pd.read_table(\"data/sonar.all-data\", sep=\",\", header=None)\n",
    "\n",
    "X = df.iloc[:, :-1].values\n",
    "y = df.iloc[:, -1].valuesa\n",
    "\n",
    "y[np.isin(y, \"R\")] = -1\n",
    "y[np.isin(y, \"M\")] = 1\n",
    "y = np.expand_dims(y, -1).astype('int64')\n",
    "\n",
    "X, X_test, y, y_test = train_test_split(X, y, test_size=0.2, random_state=1234, stratify=y)"
   ]
  },
  {
   "cell_type": "code",
   "execution_count": 24,
   "id": "a168e932",
   "metadata": {
    "scrolled": true
   },
   "outputs": [
    {
     "data": {
      "application/vnd.jupyter.widget-view+json": {
       "model_id": "f803c41116694bdeb6e912bc1ee04f7d",
       "version_major": 2,
       "version_minor": 0
      },
      "text/plain": [
       "  0%|          | 0/4 [00:00<?, ?it/s]"
      ]
     },
     "metadata": {},
     "output_type": "display_data"
    },
    {
     "data": {
      "text/html": [
       "<div>\n",
       "<style scoped>\n",
       "    .dataframe tbody tr th:only-of-type {\n",
       "        vertical-align: middle;\n",
       "    }\n",
       "\n",
       "    .dataframe tbody tr th {\n",
       "        vertical-align: top;\n",
       "    }\n",
       "\n",
       "    .dataframe thead th {\n",
       "        text-align: right;\n",
       "    }\n",
       "</style>\n",
       "<table border=\"1\" class=\"dataframe\">\n",
       "  <thead>\n",
       "    <tr style=\"text-align: right;\">\n",
       "      <th></th>\n",
       "      <th>rho</th>\n",
       "      <th>c</th>\n",
       "      <th>c1</th>\n",
       "      <th>c2</th>\n",
       "      <th>Acc</th>\n",
       "    </tr>\n",
       "  </thead>\n",
       "  <tbody>\n",
       "    <tr>\n",
       "      <th>0</th>\n",
       "      <td>0.000001</td>\n",
       "      <td>1.000000e-08</td>\n",
       "      <td>1.000000e-08</td>\n",
       "      <td>1.000000e-08</td>\n",
       "      <td>0.541176</td>\n",
       "    </tr>\n",
       "    <tr>\n",
       "      <th>1</th>\n",
       "      <td>0.000001</td>\n",
       "      <td>1.000000e-08</td>\n",
       "      <td>1.000000e-08</td>\n",
       "      <td>1.000000e-07</td>\n",
       "      <td>0.541176</td>\n",
       "    </tr>\n",
       "    <tr>\n",
       "      <th>2</th>\n",
       "      <td>0.000001</td>\n",
       "      <td>1.000000e-08</td>\n",
       "      <td>1.000000e-08</td>\n",
       "      <td>1.000000e-06</td>\n",
       "      <td>0.541176</td>\n",
       "    </tr>\n",
       "    <tr>\n",
       "      <th>3</th>\n",
       "      <td>0.000001</td>\n",
       "      <td>1.000000e-08</td>\n",
       "      <td>1.000000e-08</td>\n",
       "      <td>1.000000e-05</td>\n",
       "      <td>0.541176</td>\n",
       "    </tr>\n",
       "    <tr>\n",
       "      <th>4</th>\n",
       "      <td>0.000001</td>\n",
       "      <td>1.000000e-08</td>\n",
       "      <td>1.000000e-08</td>\n",
       "      <td>1.000000e-04</td>\n",
       "      <td>0.541176</td>\n",
       "    </tr>\n",
       "    <tr>\n",
       "      <th>...</th>\n",
       "      <td>...</td>\n",
       "      <td>...</td>\n",
       "      <td>...</td>\n",
       "      <td>...</td>\n",
       "      <td>...</td>\n",
       "    </tr>\n",
       "    <tr>\n",
       "      <th>16379</th>\n",
       "      <td>0.001000</td>\n",
       "      <td>1.000000e+08</td>\n",
       "      <td>1.000000e+08</td>\n",
       "      <td>1.000000e+04</td>\n",
       "      <td>0.716578</td>\n",
       "    </tr>\n",
       "    <tr>\n",
       "      <th>16380</th>\n",
       "      <td>0.001000</td>\n",
       "      <td>1.000000e+08</td>\n",
       "      <td>1.000000e+08</td>\n",
       "      <td>1.000000e+05</td>\n",
       "      <td>0.716578</td>\n",
       "    </tr>\n",
       "    <tr>\n",
       "      <th>16381</th>\n",
       "      <td>0.001000</td>\n",
       "      <td>1.000000e+08</td>\n",
       "      <td>1.000000e+08</td>\n",
       "      <td>1.000000e+06</td>\n",
       "      <td>0.716578</td>\n",
       "    </tr>\n",
       "    <tr>\n",
       "      <th>16382</th>\n",
       "      <td>0.001000</td>\n",
       "      <td>1.000000e+08</td>\n",
       "      <td>1.000000e+08</td>\n",
       "      <td>1.000000e+07</td>\n",
       "      <td>0.716578</td>\n",
       "    </tr>\n",
       "    <tr>\n",
       "      <th>16383</th>\n",
       "      <td>0.001000</td>\n",
       "      <td>1.000000e+08</td>\n",
       "      <td>1.000000e+08</td>\n",
       "      <td>1.000000e+08</td>\n",
       "      <td>0.716578</td>\n",
       "    </tr>\n",
       "  </tbody>\n",
       "</table>\n",
       "<p>16384 rows × 5 columns</p>\n",
       "</div>"
      ],
      "text/plain": [
       "            rho             c            c1            c2       Acc\n",
       "0      0.000001  1.000000e-08  1.000000e-08  1.000000e-08  0.541176\n",
       "1      0.000001  1.000000e-08  1.000000e-08  1.000000e-07  0.541176\n",
       "2      0.000001  1.000000e-08  1.000000e-08  1.000000e-06  0.541176\n",
       "3      0.000001  1.000000e-08  1.000000e-08  1.000000e-05  0.541176\n",
       "4      0.000001  1.000000e-08  1.000000e-08  1.000000e-04  0.541176\n",
       "...         ...           ...           ...           ...       ...\n",
       "16379  0.001000  1.000000e+08  1.000000e+08  1.000000e+04  0.716578\n",
       "16380  0.001000  1.000000e+08  1.000000e+08  1.000000e+05  0.716578\n",
       "16381  0.001000  1.000000e+08  1.000000e+08  1.000000e+06  0.716578\n",
       "16382  0.001000  1.000000e+08  1.000000e+08  1.000000e+07  0.716578\n",
       "16383  0.001000  1.000000e+08  1.000000e+08  1.000000e+08  0.716578\n",
       "\n",
       "[16384 rows x 5 columns]"
      ]
     },
     "execution_count": 24,
     "metadata": {},
     "output_type": "execute_result"
    }
   ],
   "source": [
    "rho_search_space = [1e-6, 1e-5, 1e-4, 1e-3]\n",
    "c_search_space   = [1e-8, 1e-7, 1e-6, 1e-5, 1e-4, 1e-3, 1e-2, 1e-1, 1e+1, 1e+2, 1e+3, 1e+4, 1e+5, 1e+6, 1e+7, 1e+8]\n",
    "c1_search_space  = [1e-8, 1e-7, 1e-6, 1e-5, 1e-4, 1e-3, 1e-2, 1e-1, 1e+1, 1e+2, 1e+3, 1e+4, 1e+5, 1e+6, 1e+7, 1e+8]\n",
    "c2_search_space  = [1e-8, 1e-7, 1e-6, 1e-5, 1e-4, 1e-3, 1e-2, 1e-1, 1e+1, 1e+2, 1e+3, 1e+4, 1e+5, 1e+6, 1e+7, 1e+8]\n",
    "\n",
    "results_dict = {\"rho\":[], \"c\": [], \"c1\": [], \"c2\": [], \"Acc\": []}\n",
    "kf = KFold(n_splits=5, shuffle=True, random_state=1234)\n",
    "\n",
    "for rho in tqdm(rho_search_space):\n",
    "    for c in c_search_space:\n",
    "        for c1 in c1_search_space:\n",
    "            for c2 in c2_search_space:\n",
    "                cv_acc = []\n",
    "                for train_index, val_index in kf.split(X):\n",
    "                    X_train, X_val = X[train_index], X[val_index]\n",
    "                    y_train, y_val = y[train_index], y[val_index]\n",
    "                \n",
    "                    clf = PDLSSVM(rho, c, c1, c2)\n",
    "                    clf.fit(X_train, y_train)\n",
    "                    pred, _, _ = clf.predict(X_val)\n",
    "                    pred.astype('int64')\n",
    "                    \n",
    "                    acc = accuracy_score(y_val, pred)1\n",
    "                    cv_acc.append(acc)\n",
    "                \n",
    "                cv_acc = np.mean(cv_acc)\n",
    "                results_dict['rho'].append(rho)\n",
    "                results_dict['c'].append(c)\n",
    "                results_dict['c1'].append(c1)\n",
    "                results_dict['c2'].append(c2)\n",
    "                results_dict['Acc'].append(cv_acc)\n",
    "                \n",
    "results_df = pd.DataFrame.from_dict(results_dict)\n",
    "results_df"
   ]
  },
  {
   "cell_type": "code",
   "execution_count": 26,
   "id": "06310c11",
   "metadata": {
    "scrolled": true
   },
   "outputs": [
    {
     "data": {
      "text/html": [
       "<div>\n",
       "<style scoped>\n",
       "    .dataframe tbody tr th:only-of-type {\n",
       "        vertical-align: middle;\n",
       "    }\n",
       "\n",
       "    .dataframe tbody tr th {\n",
       "        vertical-align: top;\n",
       "    }\n",
       "\n",
       "    .dataframe thead th {\n",
       "        text-align: right;\n",
       "    }\n",
       "</style>\n",
       "<table border=\"1\" class=\"dataframe\">\n",
       "  <thead>\n",
       "    <tr style=\"text-align: right;\">\n",
       "      <th></th>\n",
       "      <th>rho</th>\n",
       "      <th>c</th>\n",
       "      <th>c1</th>\n",
       "      <th>c2</th>\n",
       "      <th>Acc</th>\n",
       "    </tr>\n",
       "  </thead>\n",
       "  <tbody>\n",
       "    <tr>\n",
       "      <th>7078</th>\n",
       "      <td>0.00001</td>\n",
       "      <td>10000.0</td>\n",
       "      <td>1000.0</td>\n",
       "      <td>1.000000e-02</td>\n",
       "      <td>0.770766</td>\n",
       "    </tr>\n",
       "    <tr>\n",
       "      <th>7387</th>\n",
       "      <td>0.00001</td>\n",
       "      <td>100000.0</td>\n",
       "      <td>1000000.0</td>\n",
       "      <td>1.000000e+04</td>\n",
       "      <td>0.764884</td>\n",
       "    </tr>\n",
       "    <tr>\n",
       "      <th>7385</th>\n",
       "      <td>0.00001</td>\n",
       "      <td>100000.0</td>\n",
       "      <td>1000000.0</td>\n",
       "      <td>1.000000e+02</td>\n",
       "      <td>0.764884</td>\n",
       "    </tr>\n",
       "    <tr>\n",
       "      <th>7384</th>\n",
       "      <td>0.00001</td>\n",
       "      <td>100000.0</td>\n",
       "      <td>1000000.0</td>\n",
       "      <td>1.000000e+01</td>\n",
       "      <td>0.764884</td>\n",
       "    </tr>\n",
       "    <tr>\n",
       "      <th>7375</th>\n",
       "      <td>0.00001</td>\n",
       "      <td>100000.0</td>\n",
       "      <td>100000.0</td>\n",
       "      <td>1.000000e+08</td>\n",
       "      <td>0.764884</td>\n",
       "    </tr>\n",
       "    <tr>\n",
       "      <th>...</th>\n",
       "      <td>...</td>\n",
       "      <td>...</td>\n",
       "      <td>...</td>\n",
       "      <td>...</td>\n",
       "      <td>...</td>\n",
       "    </tr>\n",
       "    <tr>\n",
       "      <th>7376</th>\n",
       "      <td>0.00001</td>\n",
       "      <td>100000.0</td>\n",
       "      <td>1000000.0</td>\n",
       "      <td>1.000000e-08</td>\n",
       "      <td>0.451337</td>\n",
       "    </tr>\n",
       "    <tr>\n",
       "      <th>7649</th>\n",
       "      <td>0.00001</td>\n",
       "      <td>1000000.0</td>\n",
       "      <td>10000000.0</td>\n",
       "      <td>1.000000e-07</td>\n",
       "      <td>0.451337</td>\n",
       "    </tr>\n",
       "    <tr>\n",
       "      <th>7648</th>\n",
       "      <td>0.00001</td>\n",
       "      <td>1000000.0</td>\n",
       "      <td>10000000.0</td>\n",
       "      <td>1.000000e-08</td>\n",
       "      <td>0.451337</td>\n",
       "    </tr>\n",
       "    <tr>\n",
       "      <th>7415</th>\n",
       "      <td>0.00001</td>\n",
       "      <td>100000.0</td>\n",
       "      <td>100000000.0</td>\n",
       "      <td>1.000000e-01</td>\n",
       "      <td>0.451337</td>\n",
       "    </tr>\n",
       "    <tr>\n",
       "      <th>7650</th>\n",
       "      <td>0.00001</td>\n",
       "      <td>1000000.0</td>\n",
       "      <td>10000000.0</td>\n",
       "      <td>1.000000e-06</td>\n",
       "      <td>0.451337</td>\n",
       "    </tr>\n",
       "  </tbody>\n",
       "</table>\n",
       "<p>16384 rows × 5 columns</p>\n",
       "</div>"
      ],
      "text/plain": [
       "          rho          c           c1            c2       Acc\n",
       "7078  0.00001    10000.0       1000.0  1.000000e-02  0.770766\n",
       "7387  0.00001   100000.0    1000000.0  1.000000e+04  0.764884\n",
       "7385  0.00001   100000.0    1000000.0  1.000000e+02  0.764884\n",
       "7384  0.00001   100000.0    1000000.0  1.000000e+01  0.764884\n",
       "7375  0.00001   100000.0     100000.0  1.000000e+08  0.764884\n",
       "...       ...        ...          ...           ...       ...\n",
       "7376  0.00001   100000.0    1000000.0  1.000000e-08  0.451337\n",
       "7649  0.00001  1000000.0   10000000.0  1.000000e-07  0.451337\n",
       "7648  0.00001  1000000.0   10000000.0  1.000000e-08  0.451337\n",
       "7415  0.00001   100000.0  100000000.0  1.000000e-01  0.451337\n",
       "7650  0.00001  1000000.0   10000000.0  1.000000e-06  0.451337\n",
       "\n",
       "[16384 rows x 5 columns]"
      ]
     },
     "execution_count": 26,
     "metadata": {},
     "output_type": "execute_result"
    }
   ],
   "source": [
    "results_df.sort_values('Acc', ascending=False)"
   ]
  },
  {
   "cell_type": "code",
   "execution_count": 27,
   "id": "bc2f7743",
   "metadata": {},
   "outputs": [
    {
     "name": "stdout",
     "output_type": "stream",
     "text": [
      "Training Done\n",
      "Total Running Time: 0.1258\n",
      "Prediction Done\n",
      "Total Running Time: 0.0002\n"
     ]
    },
    {
     "data": {
      "text/plain": [
       "0.7142857142857143"
      ]
     },
     "execution_count": 27,
     "metadata": {},
     "output_type": "execute_result"
    }
   ],
   "source": [
    "#PDLSSVM\n",
    "rho = 1e-5\n",
    "c   = 1e+4\n",
    "c1  = 1e+3\n",
    "c2  = 1e-2\n",
    "\n",
    "clf = PDLSSVM(rho, c, c1, c2)\n",
    "clf.fit(X, y, verbose=True)\n",
    "pred, _, _ = clf.predict(X_test, verbose=True)\n",
    "# confusion_matrix(y_test, pred)\n",
    "accuracy_score(y_test, pred)"
   ]
  },
  {
   "cell_type": "code",
   "execution_count": 28,
   "id": "a4111495",
   "metadata": {},
   "outputs": [
    {
     "name": "stdout",
     "output_type": "stream",
     "text": [
      "Training Done\n",
      "Total Running Time: 0.1165\n",
      "Prediction Done\n",
      "Total Running Time: 0.0002\n"
     ]
    },
    {
     "data": {
      "text/plain": [
       "0.7619047619047619"
      ]
     },
     "execution_count": 28,
     "metadata": {},
     "output_type": "execute_result"
    }
   ],
   "source": [
    "# LSSVM\n",
    "rho = 1e-5\n",
    "c   = 1e+4\n",
    "c1  = 0\n",
    "c2  = 0\n",
    "\n",
    "clf = PDLSSVM(rho, c, c1, c2)\n",
    "clf.fit(X, y, verbose=True)\n",
    "pred, _, _ = clf.predict(X_test, verbose=True)\n",
    "# confusion_matrix(y_test, pred)\n",
    "accuracy_score(y_test, pred)"
   ]
  },
  {
   "cell_type": "code",
   "execution_count": 29,
   "id": "e6eb61aa",
   "metadata": {},
   "outputs": [
    {
     "name": "stderr",
     "output_type": "stream",
     "text": [
      "/Users/jonghyun/miniforge3/lib/python3.9/site-packages/sklearn/utils/validation.py:63: DataConversionWarning: A column-vector y was passed when a 1d array was expected. Please change the shape of y to (n_samples, ), for example using ravel().\n",
      "  return f(*args, **kwargs)\n"
     ]
    },
    {
     "data": {
      "text/plain": [
       "0.8333333333333334"
      ]
     },
     "execution_count": 29,
     "metadata": {},
     "output_type": "execute_result"
    }
   ],
   "source": [
    "clf = SVC()\n",
    "clf.fit(X, y)\n",
    "pred = clf.predict(X_test)\n",
    "# confusion_matrix(y_test, pred)\n",
    "accuracy_score(y_test, pred)"
   ]
  },
  {
   "cell_type": "markdown",
   "id": "5845d034",
   "metadata": {},
   "source": [
    "# dbworld dataset"
   ]
  },
  {
   "cell_type": "code",
   "execution_count": 13,
   "id": "672c3e57",
   "metadata": {},
   "outputs": [],
   "source": [
    "data = np.load(\"data/dbworld.npy\")\n",
    "X = data[:, :-1]\n",
    "y = data[:, -1]\n",
    "\n",
    "X, X_test, y, y_test = train_test_split(X, y, test_size=0.2, random_state=1234, stratify=y)"
   ]
  },
  {
   "cell_type": "code",
   "execution_count": 16,
   "id": "b7c0a994",
   "metadata": {},
   "outputs": [
    {
     "data": {
      "application/vnd.jupyter.widget-view+json": {
       "model_id": "ec051423784344cb9b8d29ce1dcd949e",
       "version_major": 2,
       "version_minor": 0
      },
      "text/plain": [
       "HBox(children=(HTML(value=''), FloatProgress(value=0.0, max=4.0), HTML(value='')))"
      ]
     },
     "metadata": {},
     "output_type": "display_data"
    },
    {
     "name": "stdout",
     "output_type": "stream",
     "text": [
      "\n"
     ]
    },
    {
     "data": {
      "text/html": [
       "<div>\n",
       "<style scoped>\n",
       "    .dataframe tbody tr th:only-of-type {\n",
       "        vertical-align: middle;\n",
       "    }\n",
       "\n",
       "    .dataframe tbody tr th {\n",
       "        vertical-align: top;\n",
       "    }\n",
       "\n",
       "    .dataframe thead th {\n",
       "        text-align: right;\n",
       "    }\n",
       "</style>\n",
       "<table border=\"1\" class=\"dataframe\">\n",
       "  <thead>\n",
       "    <tr style=\"text-align: right;\">\n",
       "      <th></th>\n",
       "      <th>rho</th>\n",
       "      <th>c</th>\n",
       "      <th>c1</th>\n",
       "      <th>c2</th>\n",
       "      <th>Acc</th>\n",
       "    </tr>\n",
       "  </thead>\n",
       "  <tbody>\n",
       "    <tr>\n",
       "      <th>0</th>\n",
       "      <td>0.000001</td>\n",
       "      <td>1.000000e-08</td>\n",
       "      <td>1.000000e-08</td>\n",
       "      <td>1.000000e-08</td>\n",
       "      <td>0.843636</td>\n",
       "    </tr>\n",
       "    <tr>\n",
       "      <th>1</th>\n",
       "      <td>0.000001</td>\n",
       "      <td>1.000000e-08</td>\n",
       "      <td>1.000000e-08</td>\n",
       "      <td>1.000000e-07</td>\n",
       "      <td>0.863636</td>\n",
       "    </tr>\n",
       "    <tr>\n",
       "      <th>2</th>\n",
       "      <td>0.000001</td>\n",
       "      <td>1.000000e-08</td>\n",
       "      <td>1.000000e-08</td>\n",
       "      <td>1.000000e-06</td>\n",
       "      <td>0.863636</td>\n",
       "    </tr>\n",
       "    <tr>\n",
       "      <th>3</th>\n",
       "      <td>0.000001</td>\n",
       "      <td>1.000000e-08</td>\n",
       "      <td>1.000000e-08</td>\n",
       "      <td>1.000000e-05</td>\n",
       "      <td>0.863636</td>\n",
       "    </tr>\n",
       "    <tr>\n",
       "      <th>4</th>\n",
       "      <td>0.000001</td>\n",
       "      <td>1.000000e-08</td>\n",
       "      <td>1.000000e-08</td>\n",
       "      <td>1.000000e-04</td>\n",
       "      <td>0.843636</td>\n",
       "    </tr>\n",
       "    <tr>\n",
       "      <th>...</th>\n",
       "      <td>...</td>\n",
       "      <td>...</td>\n",
       "      <td>...</td>\n",
       "      <td>...</td>\n",
       "      <td>...</td>\n",
       "    </tr>\n",
       "    <tr>\n",
       "      <th>16379</th>\n",
       "      <td>0.001000</td>\n",
       "      <td>1.000000e+08</td>\n",
       "      <td>1.000000e+08</td>\n",
       "      <td>1.000000e+04</td>\n",
       "      <td>0.843636</td>\n",
       "    </tr>\n",
       "    <tr>\n",
       "      <th>16380</th>\n",
       "      <td>0.001000</td>\n",
       "      <td>1.000000e+08</td>\n",
       "      <td>1.000000e+08</td>\n",
       "      <td>1.000000e+05</td>\n",
       "      <td>0.843636</td>\n",
       "    </tr>\n",
       "    <tr>\n",
       "      <th>16381</th>\n",
       "      <td>0.001000</td>\n",
       "      <td>1.000000e+08</td>\n",
       "      <td>1.000000e+08</td>\n",
       "      <td>1.000000e+06</td>\n",
       "      <td>0.843636</td>\n",
       "    </tr>\n",
       "    <tr>\n",
       "      <th>16382</th>\n",
       "      <td>0.001000</td>\n",
       "      <td>1.000000e+08</td>\n",
       "      <td>1.000000e+08</td>\n",
       "      <td>1.000000e+07</td>\n",
       "      <td>0.843636</td>\n",
       "    </tr>\n",
       "    <tr>\n",
       "      <th>16383</th>\n",
       "      <td>0.001000</td>\n",
       "      <td>1.000000e+08</td>\n",
       "      <td>1.000000e+08</td>\n",
       "      <td>1.000000e+08</td>\n",
       "      <td>0.843636</td>\n",
       "    </tr>\n",
       "  </tbody>\n",
       "</table>\n",
       "<p>16384 rows × 5 columns</p>\n",
       "</div>"
      ],
      "text/plain": [
       "            rho             c            c1            c2       Acc\n",
       "0      0.000001  1.000000e-08  1.000000e-08  1.000000e-08  0.843636\n",
       "1      0.000001  1.000000e-08  1.000000e-08  1.000000e-07  0.863636\n",
       "2      0.000001  1.000000e-08  1.000000e-08  1.000000e-06  0.863636\n",
       "3      0.000001  1.000000e-08  1.000000e-08  1.000000e-05  0.863636\n",
       "4      0.000001  1.000000e-08  1.000000e-08  1.000000e-04  0.843636\n",
       "...         ...           ...           ...           ...       ...\n",
       "16379  0.001000  1.000000e+08  1.000000e+08  1.000000e+04  0.843636\n",
       "16380  0.001000  1.000000e+08  1.000000e+08  1.000000e+05  0.843636\n",
       "16381  0.001000  1.000000e+08  1.000000e+08  1.000000e+06  0.843636\n",
       "16382  0.001000  1.000000e+08  1.000000e+08  1.000000e+07  0.843636\n",
       "16383  0.001000  1.000000e+08  1.000000e+08  1.000000e+08  0.843636\n",
       "\n",
       "[16384 rows x 5 columns]"
      ]
     },
     "execution_count": 16,
     "metadata": {},
     "output_type": "execute_result"
    }
   ],
   "source": [
    "rho_search_space = [1e-6, 1e-5, 1e-4, 1e-3]\n",
    "c_search_space   = [1e-8, 1e-7, 1e-6, 1e-5, 1e-4, 1e-3, 1e-2, 1e-1, 1e+1, 1e+2, 1e+3, 1e+4, 1e+5, 1e+6, 1e+7, 1e+8]\n",
    "c1_search_space  = [1e-8, 1e-7, 1e-6, 1e-5, 1e-4, 1e-3, 1e-2, 1e-1, 1e+1, 1e+2, 1e+3, 1e+4, 1e+5, 1e+6, 1e+7, 1e+8]\n",
    "c2_search_space  = [1e-8, 1e-7, 1e-6, 1e-5, 1e-4, 1e-3, 1e-2, 1e-1, 1e+1, 1e+2, 1e+3, 1e+4, 1e+5, 1e+6, 1e+7, 1e+8]\n",
    "\n",
    "results_dict = {\"rho\":[], \"c\": [], \"c1\": [], \"c2\": [], \"Acc\": []}\n",
    "kf = KFold(n_splits=5, shuffle=True, random_state=1234)\n",
    "\n",
    "for rho in tqdm(rho_search_space):\n",
    "    for c in c_search_space:\n",
    "        for c1 in c1_search_space:\n",
    "            for c2 in c2_search_space:\n",
    "                cv_acc = []\n",
    "                for train_index, val_index in kf.split(X):\n",
    "                    X_train, X_val = X[train_index], X[val_index]\n",
    "                    y_train, y_val = y[train_index], y[val_index]\n",
    "                \n",
    "                    clf = PDLSSVM(rho, c, c1, c2)\n",
    "                    clf.fit(X_train, y_train)\n",
    "                    pred, _, _ = clf.predict(X_val)\n",
    "                    pred.astype('int64')\n",
    "                    \n",
    "                    acc = accuracy_score(y_val, pred)\n",
    "                    cv_acc.append(acc)\n",
    "                \n",
    "                cv_acc = np.mean(cv_acc)\n",
    "                results_dict['rho'].append(rho)\n",
    "                results_dict['c'].append(c)\n",
    "                results_dict['c1'].append(c1)\n",
    "                results_dict['c2'].append(c2)\n",
    "                results_dict['Acc'].append(cv_acc)\n",
    "                \n",
    "results_df = pd.DataFrame.from_dict(results_dict)\n",
    "results_df"
   ]
  },
  {
   "cell_type": "code",
   "execution_count": 17,
   "id": "8b835104",
   "metadata": {},
   "outputs": [
    {
     "data": {
      "text/html": [
       "<div>\n",
       "<style scoped>\n",
       "    .dataframe tbody tr th:only-of-type {\n",
       "        vertical-align: middle;\n",
       "    }\n",
       "\n",
       "    .dataframe tbody tr th {\n",
       "        vertical-align: top;\n",
       "    }\n",
       "\n",
       "    .dataframe thead th {\n",
       "        text-align: right;\n",
       "    }\n",
       "</style>\n",
       "<table border=\"1\" class=\"dataframe\">\n",
       "  <thead>\n",
       "    <tr style=\"text-align: right;\">\n",
       "      <th></th>\n",
       "      <th>rho</th>\n",
       "      <th>c</th>\n",
       "      <th>c1</th>\n",
       "      <th>c2</th>\n",
       "      <th>Acc</th>\n",
       "    </tr>\n",
       "  </thead>\n",
       "  <tbody>\n",
       "    <tr>\n",
       "      <th>8192</th>\n",
       "      <td>0.0001</td>\n",
       "      <td>1.000000e-08</td>\n",
       "      <td>1.000000e-08</td>\n",
       "      <td>1.000000e-08</td>\n",
       "      <td>0.863636</td>\n",
       "    </tr>\n",
       "    <tr>\n",
       "      <th>13610</th>\n",
       "      <td>0.0010</td>\n",
       "      <td>1.000000e-03</td>\n",
       "      <td>1.000000e-06</td>\n",
       "      <td>1.000000e+03</td>\n",
       "      <td>0.863636</td>\n",
       "    </tr>\n",
       "    <tr>\n",
       "      <th>13630</th>\n",
       "      <td>0.0010</td>\n",
       "      <td>1.000000e-03</td>\n",
       "      <td>1.000000e-05</td>\n",
       "      <td>1.000000e+07</td>\n",
       "      <td>0.863636</td>\n",
       "    </tr>\n",
       "    <tr>\n",
       "      <th>13629</th>\n",
       "      <td>0.0010</td>\n",
       "      <td>1.000000e-03</td>\n",
       "      <td>1.000000e-05</td>\n",
       "      <td>1.000000e+06</td>\n",
       "      <td>0.863636</td>\n",
       "    </tr>\n",
       "    <tr>\n",
       "      <th>13628</th>\n",
       "      <td>0.0010</td>\n",
       "      <td>1.000000e-03</td>\n",
       "      <td>1.000000e-05</td>\n",
       "      <td>1.000000e+05</td>\n",
       "      <td>0.863636</td>\n",
       "    </tr>\n",
       "    <tr>\n",
       "      <th>...</th>\n",
       "      <td>...</td>\n",
       "      <td>...</td>\n",
       "      <td>...</td>\n",
       "      <td>...</td>\n",
       "      <td>...</td>\n",
       "    </tr>\n",
       "    <tr>\n",
       "      <th>14583</th>\n",
       "      <td>0.0010</td>\n",
       "      <td>1.000000e+01</td>\n",
       "      <td>1.000000e+08</td>\n",
       "      <td>1.000000e-01</td>\n",
       "      <td>0.447273</td>\n",
       "    </tr>\n",
       "    <tr>\n",
       "      <th>14582</th>\n",
       "      <td>0.0010</td>\n",
       "      <td>1.000000e+01</td>\n",
       "      <td>1.000000e+08</td>\n",
       "      <td>1.000000e-02</td>\n",
       "      <td>0.447273</td>\n",
       "    </tr>\n",
       "    <tr>\n",
       "      <th>14581</th>\n",
       "      <td>0.0010</td>\n",
       "      <td>1.000000e+01</td>\n",
       "      <td>1.000000e+08</td>\n",
       "      <td>1.000000e-03</td>\n",
       "      <td>0.447273</td>\n",
       "    </tr>\n",
       "    <tr>\n",
       "      <th>14580</th>\n",
       "      <td>0.0010</td>\n",
       "      <td>1.000000e+01</td>\n",
       "      <td>1.000000e+08</td>\n",
       "      <td>1.000000e-04</td>\n",
       "      <td>0.447273</td>\n",
       "    </tr>\n",
       "    <tr>\n",
       "      <th>14544</th>\n",
       "      <td>0.0010</td>\n",
       "      <td>1.000000e+01</td>\n",
       "      <td>1.000000e+06</td>\n",
       "      <td>1.000000e-08</td>\n",
       "      <td>0.447273</td>\n",
       "    </tr>\n",
       "  </tbody>\n",
       "</table>\n",
       "<p>16384 rows × 5 columns</p>\n",
       "</div>"
      ],
      "text/plain": [
       "          rho             c            c1            c2       Acc\n",
       "8192   0.0001  1.000000e-08  1.000000e-08  1.000000e-08  0.863636\n",
       "13610  0.0010  1.000000e-03  1.000000e-06  1.000000e+03  0.863636\n",
       "13630  0.0010  1.000000e-03  1.000000e-05  1.000000e+07  0.863636\n",
       "13629  0.0010  1.000000e-03  1.000000e-05  1.000000e+06  0.863636\n",
       "13628  0.0010  1.000000e-03  1.000000e-05  1.000000e+05  0.863636\n",
       "...       ...           ...           ...           ...       ...\n",
       "14583  0.0010  1.000000e+01  1.000000e+08  1.000000e-01  0.447273\n",
       "14582  0.0010  1.000000e+01  1.000000e+08  1.000000e-02  0.447273\n",
       "14581  0.0010  1.000000e+01  1.000000e+08  1.000000e-03  0.447273\n",
       "14580  0.0010  1.000000e+01  1.000000e+08  1.000000e-04  0.447273\n",
       "14544  0.0010  1.000000e+01  1.000000e+06  1.000000e-08  0.447273\n",
       "\n",
       "[16384 rows x 5 columns]"
      ]
     },
     "execution_count": 17,
     "metadata": {},
     "output_type": "execute_result"
    }
   ],
   "source": [
    "results_df.sort_values('Acc', ascending=False)"
   ]
  },
  {
   "cell_type": "code",
   "execution_count": 22,
   "id": "b277eaea",
   "metadata": {},
   "outputs": [
    {
     "name": "stdout",
     "output_type": "stream",
     "text": [
      "Training Done\n",
      "Total Running Time: 0.123\n",
      "Prediction Done\n",
      "Total Running Time: 0.001\n"
     ]
    },
    {
     "data": {
      "text/plain": [
       "0.9230769230769231"
      ]
     },
     "execution_count": 22,
     "metadata": {},
     "output_type": "execute_result"
    }
   ],
   "source": [
    "#PDLSSVM\n",
    "rho = 1e-3\n",
    "c   = 1e-3\n",
    "c1  = 1e-5\n",
    "c2  = 1e-5\n",
    "\n",
    "clf = PDLSSVM(rho, c, c1, c2)\n",
    "clf.fit(X, y, verbose=True)\n",
    "pred, _, _ = clf.predict(X_test, verbose=True)\n",
    "# confusion_matrix(y_test, pred)\n",
    "accuracy_score(y_test, pred)"
   ]
  },
  {
   "cell_type": "code",
   "execution_count": 19,
   "id": "18d7f3a2",
   "metadata": {},
   "outputs": [
    {
     "name": "stdout",
     "output_type": "stream",
     "text": [
      "Training Done\n",
      "Total Running Time: 0.122\n",
      "Prediction Done\n",
      "Total Running Time: 0.001\n"
     ]
    },
    {
     "data": {
      "text/plain": [
       "0.9230769230769231"
      ]
     },
     "execution_count": 19,
     "metadata": {},
     "output_type": "execute_result"
    }
   ],
   "source": [
    "#LSSVM\n",
    "rho = 1e-3\n",
    "c   = 1e-3\n",
    "c1  = 0\n",
    "c2  = 0\n",
    "\n",
    "clf = PDLSSVM(rho, c, c1, c2)\n",
    "clf.fit(X, y, verbose=True)\n",
    "pred, _, _ = clf.predict(X_test, verbose=True)\n",
    "# confusion_matrix(y_test, pred)\n",
    "accuracy_score(y_test, pred)"
   ]
  },
  {
   "cell_type": "code",
   "execution_count": 21,
   "id": "01f4e3b8",
   "metadata": {},
   "outputs": [
    {
     "data": {
      "text/plain": [
       "1.0"
      ]
     },
     "execution_count": 21,
     "metadata": {},
     "output_type": "execute_result"
    }
   ],
   "source": [
    "from sklearn.svm import SVC\n",
    "\n",
    "clf = SVC()\n",
    "clf.fit(X, y)\n",
    "pred = clf.predict(X_test)\n",
    "# confusion_matrix(y_test, pred)\n",
    "accuracy_score(y_test, pred)"
   ]
  },
  {
   "cell_type": "markdown",
   "id": "588928e3",
   "metadata": {},
   "source": [
    "# heart attack"
   ]
  },
  {
   "cell_type": "code",
   "execution_count": 30,
   "id": "c14cdea6",
   "metadata": {},
   "outputs": [],
   "source": [
    "data = pd.read_csv(\"data/heart_attack.csv\")\n",
    "X = data.iloc[:, :-1].values\n",
    "y = data.iloc[:, -1].values\n",
    "\n",
    "X, X_test, y, y_test = train_test_split(X, y, test_size=0.2, random_state=1234, shuffle=True, stratify=y)"
   ]
  },
  {
   "cell_type": "code",
   "execution_count": 33,
   "id": "56f0126e",
   "metadata": {},
   "outputs": [
    {
     "data": {
      "application/vnd.jupyter.widget-view+json": {
       "model_id": "7bbee26bbd124cf18914cfe2200729c8",
       "version_major": 2,
       "version_minor": 0
      },
      "text/plain": [
       "HBox(children=(HTML(value=''), FloatProgress(value=0.0, max=4.0), HTML(value='')))"
      ]
     },
     "metadata": {},
     "output_type": "display_data"
    },
    {
     "name": "stdout",
     "output_type": "stream",
     "text": [
      "\n"
     ]
    },
    {
     "ename": "KeyboardInterrupt",
     "evalue": "",
     "output_type": "error",
     "traceback": [
      "\u001b[1;31m---------------------------------------------------------------------------\u001b[0m",
      "\u001b[1;31mKeyboardInterrupt\u001b[0m                         Traceback (most recent call last)",
      "\u001b[1;32m<ipython-input-33-c0d8f0caba6b>\u001b[0m in \u001b[0;36m<module>\u001b[1;34m\u001b[0m\n\u001b[0;32m     17\u001b[0m \u001b[1;33m\u001b[0m\u001b[0m\n\u001b[0;32m     18\u001b[0m                     \u001b[0mclf\u001b[0m \u001b[1;33m=\u001b[0m \u001b[0mPDLSSVM\u001b[0m\u001b[1;33m(\u001b[0m\u001b[0mrho\u001b[0m\u001b[1;33m,\u001b[0m \u001b[0mc\u001b[0m\u001b[1;33m,\u001b[0m \u001b[0mc1\u001b[0m\u001b[1;33m,\u001b[0m \u001b[0mc2\u001b[0m\u001b[1;33m)\u001b[0m\u001b[1;33m\u001b[0m\u001b[1;33m\u001b[0m\u001b[0m\n\u001b[1;32m---> 19\u001b[1;33m                     \u001b[0mclf\u001b[0m\u001b[1;33m.\u001b[0m\u001b[0mfit\u001b[0m\u001b[1;33m(\u001b[0m\u001b[0mX_train\u001b[0m\u001b[1;33m,\u001b[0m \u001b[0my_train\u001b[0m\u001b[1;33m)\u001b[0m\u001b[1;33m\u001b[0m\u001b[1;33m\u001b[0m\u001b[0m\n\u001b[0m\u001b[0;32m     20\u001b[0m                     \u001b[0mpred\u001b[0m\u001b[1;33m,\u001b[0m \u001b[0m_\u001b[0m\u001b[1;33m,\u001b[0m \u001b[0m_\u001b[0m \u001b[1;33m=\u001b[0m \u001b[0mclf\u001b[0m\u001b[1;33m.\u001b[0m\u001b[0mpredict\u001b[0m\u001b[1;33m(\u001b[0m\u001b[0mX_val\u001b[0m\u001b[1;33m)\u001b[0m\u001b[1;33m\u001b[0m\u001b[1;33m\u001b[0m\u001b[0m\n\u001b[0;32m     21\u001b[0m                     \u001b[0mpred\u001b[0m\u001b[1;33m.\u001b[0m\u001b[0mastype\u001b[0m\u001b[1;33m(\u001b[0m\u001b[1;34m'int64'\u001b[0m\u001b[1;33m)\u001b[0m\u001b[1;33m\u001b[0m\u001b[1;33m\u001b[0m\u001b[0m\n",
      "\u001b[1;32m~\\Workspaces\\PDLSSVM\\src\\PDLSSVM.py\u001b[0m in \u001b[0;36mfit\u001b[1;34m(self, train_X, train_y_, verbose)\u001b[0m\n\u001b[0;32m     49\u001b[0m             \u001b[0mtheta\u001b[0m \u001b[1;33m=\u001b[0m \u001b[1;36m1\u001b[0m \u001b[1;33m/\u001b[0m \u001b[1;36m2\u001b[0m \u001b[1;33m*\u001b[0m \u001b[1;33m(\u001b[0m\u001b[0mz\u001b[0m \u001b[1;33m-\u001b[0m \u001b[0mu1\u001b[0m \u001b[1;33m+\u001b[0m \u001b[0mB\u001b[0m \u001b[1;33m@\u001b[0m \u001b[0mbeta\u001b[0m \u001b[1;33m-\u001b[0m \u001b[0mu3\u001b[0m\u001b[1;33m)\u001b[0m\u001b[1;33m\u001b[0m\u001b[1;33m\u001b[0m\u001b[0m\n\u001b[0;32m     50\u001b[0m             \u001b[0mw\u001b[0m     \u001b[1;33m=\u001b[0m \u001b[0mPDLSSVM\u001b[0m\u001b[1;33m.\u001b[0m\u001b[0mshrinkage\u001b[0m\u001b[1;33m(\u001b[0m\u001b[0mself\u001b[0m\u001b[1;33m.\u001b[0m\u001b[0mc1\u001b[0m \u001b[1;33m/\u001b[0m \u001b[1;33m(\u001b[0m\u001b[1;36m2\u001b[0m \u001b[1;33m*\u001b[0m \u001b[0mself\u001b[0m\u001b[1;33m.\u001b[0m\u001b[0mrho\u001b[0m\u001b[1;33m)\u001b[0m \u001b[1;33m*\u001b[0m \u001b[0mew\u001b[0m\u001b[1;33m,\u001b[0m \u001b[0mtheta\u001b[0m\u001b[1;33m)\u001b[0m\u001b[1;33m\u001b[0m\u001b[1;33m\u001b[0m\u001b[0m\n\u001b[1;32m---> 51\u001b[1;33m             \u001b[0mz\u001b[0m     \u001b[1;33m=\u001b[0m \u001b[0mQ_inv\u001b[0m \u001b[1;33m@\u001b[0m \u001b[1;33m(\u001b[0m\u001b[0mself\u001b[0m\u001b[1;33m.\u001b[0m\u001b[0mc\u001b[0m \u001b[1;33m*\u001b[0m \u001b[0mB\u001b[0m \u001b[1;33m@\u001b[0m \u001b[0me\u001b[0m \u001b[1;33m+\u001b[0m \u001b[0mself\u001b[0m\u001b[1;33m.\u001b[0m\u001b[0mrho\u001b[0m \u001b[1;33m*\u001b[0m \u001b[0mw\u001b[0m \u001b[1;33m+\u001b[0m \u001b[0mself\u001b[0m\u001b[1;33m.\u001b[0m\u001b[0mrho\u001b[0m \u001b[1;33m*\u001b[0m \u001b[0mu1\u001b[0m \u001b[1;33m+\u001b[0m \u001b[0mself\u001b[0m\u001b[1;33m.\u001b[0m\u001b[0mrho\u001b[0m \u001b[1;33m*\u001b[0m \u001b[0mB\u001b[0m \u001b[1;33m@\u001b[0m \u001b[0mbeta\u001b[0m \u001b[1;33m-\u001b[0m \u001b[0mself\u001b[0m\u001b[1;33m.\u001b[0m\u001b[0mrho\u001b[0m \u001b[1;33m*\u001b[0m \u001b[0mu3\u001b[0m\u001b[1;33m)\u001b[0m\u001b[1;33m\u001b[0m\u001b[1;33m\u001b[0m\u001b[0m\n\u001b[0m\u001b[0;32m     52\u001b[0m \u001b[1;33m\u001b[0m\u001b[0m\n\u001b[0;32m     53\u001b[0m             \u001b[0malpha\u001b[0m \u001b[1;33m=\u001b[0m \u001b[0mPDLSSVM\u001b[0m\u001b[1;33m.\u001b[0m\u001b[0mshrinkage\u001b[0m\u001b[1;33m(\u001b[0m\u001b[0mself\u001b[0m\u001b[1;33m.\u001b[0m\u001b[0mc2\u001b[0m \u001b[1;33m/\u001b[0m \u001b[0mself\u001b[0m\u001b[1;33m.\u001b[0m\u001b[0mrho\u001b[0m \u001b[1;33m*\u001b[0m \u001b[0me\u001b[0m\u001b[1;33m,\u001b[0m \u001b[0mbeta\u001b[0m \u001b[1;33m-\u001b[0m \u001b[0mu2\u001b[0m\u001b[1;33m)\u001b[0m\u001b[1;33m\u001b[0m\u001b[1;33m\u001b[0m\u001b[0m\n",
      "\u001b[1;31mKeyboardInterrupt\u001b[0m: "
     ]
    }
   ],
   "source": [
    "rho_search_space = [1e-6, 1e-5, 1e-4, 1e-3]\n",
    "c_search_space   = [1e-8, 1e-7, 1e-6, 1e-5, 1e-4, 1e-3, 1e-2, 1e-1, 1e+1, 1e+2, 1e+3, 1e+4, 1e+5, 1e+6, 1e+7, 1e+8]\n",
    "c1_search_space  = [1e-8, 1e-7, 1e-6, 1e-5, 1e-4, 1e-3, 1e-2, 1e-1, 1e+1, 1e+2, 1e+3, 1e+4, 1e+5, 1e+6, 1e+7, 1e+8]\n",
    "c2_search_space  = [1e-8, 1e-7, 1e-6, 1e-5, 1e-4, 1e-3, 1e-2, 1e-1, 1e+1, 1e+2, 1e+3, 1e+4, 1e+5, 1e+6, 1e+7, 1e+8]\n",
    "\n",
    "results_dict = {\"rho\":[], \"c\": [], \"c1\": [], \"c2\": [], \"Acc\": []}\n",
    "kf = KFold(n_splits=5, shuffle=True, random_state=1234)\n",
    "\n",
    "for rho in tqdm(rho_search_space):\n",
    "    for c in c_search_space:\n",
    "        for c1 in c1_search_space:\n",
    "            for c2 in c2_search_space:\n",
    "                cv_acc = []\n",
    "                for train_index, val_index in kf.split(X):\n",
    "                    X_train, X_val = X[train_index], X[val_index]\n",
    "                    y_train, y_val = y[train_index], y[val_index]\n",
    "                \n",
    "                    clf = PDLSSVM(rho, c, c1, c2)\n",
    "                    clf.fit(X_train, y_train)\n",
    "                    pred, _, _ = clf.predict(X_val)\n",
    "                    pred.astype('int64')\n",
    "                    \n",
    "                    acc = accuracy_score(y_val, pred)\n",
    "                    cv_acc.append(acc)\n",
    "                \n",
    "                cv_acc = np.mean(cv_acc)\n",
    "                results_dict['rho'].append(rho)\n",
    "                results_dict['c'].append(c)\n",
    "                results_dict['c1'].append(c1)\n",
    "                results_dict['c2'].append(c2)\n",
    "                results_dict['Acc'].append(cv_acc)\n",
    "                \n",
    "results_df = pd.DataFrame.from_dict(results_dict)\n",
    "results_df"
   ]
  },
  {
   "cell_type": "code",
   "execution_count": null,
   "id": "d33d9d27",
   "metadata": {},
   "outputs": [],
   "source": [
    "results_df.sort_values('Acc', ascending=False)"
   ]
  },
  {
   "cell_type": "code",
   "execution_count": null,
   "id": "dde5e2de",
   "metadata": {},
   "outputs": [],
   "source": [
    "#PDLSSVM\n",
    "rho = 1e-3\n",
    "c   = 1e-3\n",
    "c1  = 1e-5\n",
    "c2  = 1e-5\n",
    "\n",
    "clf = PDLSSVM(rho, c, c1, c2)\n",
    "clf.fit(X, y, verbose=True)\n",
    "pred, _, _ = clf.predict(X_test, verbose=True)\n",
    "# confusion_matrix(y_test, pred)\n",
    "accuracy_score(y_test, pred)"
   ]
  }
 ],
 "metadata": {
  "kernelspec": {
   "display_name": "Python 3",
   "language": "python",
   "name": "python3"
  },
  "language_info": {
   "codemirror_mode": {
    "name": "ipython",
    "version": 3
   },
   "file_extension": ".py",
   "mimetype": "text/x-python",
   "name": "python",
   "nbconvert_exporter": "python",
   "pygments_lexer": "ipython3",
   "version": "3.9.1"
  }
 },
 "nbformat": 4,
 "nbformat_minor": 5
}
