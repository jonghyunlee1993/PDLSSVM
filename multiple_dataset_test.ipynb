{
 "cells": [
  {
   "cell_type": "code",
   "execution_count": 1,
   "id": "14bc1f75",
   "metadata": {},
   "outputs": [],
   "source": [
    "import numpy as np\n",
    "import pandas as pd\n",
    "from src.PDLSSVM import PDLSSVM\n",
    "from sklearn.datasets import load_iris\n",
    "from sklearn.model_selection import train_test_split, KFold\n",
    "from sklearn.metrics import confusion_matrix, accuracy_score\n",
    "\n",
    "kf = KFold(n_splits=5, shuffle=True, random_state=1234)\n",
    "\n",
    "iris = load_iris()\n",
    "X = iris['data'][:100]\n",
    "y = iris['target'][:100]\n",
    "y[:50] = -1\n",
    "\n",
    "X, X_test, y, y_test = train_test_split(X, y, test_size=0.2, random_state=1234)"
   ]
  },
  {
   "cell_type": "code",
   "execution_count": null,
   "id": "322c4acb",
   "metadata": {
    "scrolled": true
   },
   "outputs": [
    {
     "data": {
      "application/vnd.jupyter.widget-view+json": {
       "model_id": "2beb5f2017e449f0a9f2a8e68293f035",
       "version_major": 2,
       "version_minor": 0
      },
      "text/plain": [
       "  0%|          | 0/4 [00:00<?, ?it/s]"
      ]
     },
     "metadata": {},
     "output_type": "display_data"
    }
   ],
   "source": [
    "from tqdm.notebook import tqdm\n",
    "\n",
    "rho_search_space = [1e-6, 1e-5, 1e-4, 1e-3]\n",
    "c_search_space   = [1e-8, 1e-7, 1e-6, 1e-5, 1e-4, 1e-3, 1e-2, 1e-1, 1e+1, 1e+2, 1e+3, 1e+4, 1e+5, 1e+6, 1e+7, 1e+8]\n",
    "c1_search_space  = [1e-8, 1e-7, 1e-6, 1e-5, 1e-4, 1e-3, 1e-2, 1e-1, 1e+1, 1e+2, 1e+3, 1e+4, 1e+5, 1e+6, 1e+7, 1e+8]\n",
    "c2_search_space  = [1e-8, 1e-7, 1e-6, 1e-5, 1e-4, 1e-3, 1e-2, 1e-1, 1e+1, 1e+2, 1e+3, 1e+4, 1e+5, 1e+6, 1e+7, 1e+8]\n",
    "\n",
    "# rho_search_space = [1e-6]\n",
    "# c_search_space   = [1e-8]\n",
    "# c1_search_space  = [1e-8]\n",
    "# c2_search_space  = [1e-8]\n",
    "\n",
    "results_dict = {\"rho\":[], \"c\": [], \"c1\": [], \"c2\": [], \"Acc\": []}\n",
    "\n",
    "for rho in tqdm(rho_search_space):\n",
    "    for c in c_search_space:\n",
    "        for c1 in c1_search_space:\n",
    "            for c2 in c2_search_space:\n",
    "                cv_acc = []\n",
    "                for train_index, val_index in kf.split(X):\n",
    "                    X_train, X_val = X[train_index], X[val_index]\n",
    "                    y_train, y_val = y[train_index], y[val_index]\n",
    "                \n",
    "                    clf = PDLSSVM(rho, c, c1, c2)\n",
    "                    clf.fit(X_train, y_train)\n",
    "                    pred, _, _ = clf.predict(X_val)\n",
    "                    acc = accuracy_score(y_val, pred)\n",
    "                    cv_acc.append(acc)\n",
    "                \n",
    "                cv_acc = np.mean(cv_acc)\n",
    "                results_dict['rho'].append(rho)\n",
    "                results_dict['c'].append(c)\n",
    "                results_dict['c1'].append(c1)\n",
    "                results_dict['c2'].append(c2)\n",
    "                results_dict['Acc'].append(cv_acc)\n",
    "                \n",
    "results_df = pd.DataFrame.from_dict(results_dict)\n",
    "results_df"
   ]
  },
  {
   "cell_type": "code",
   "execution_count": 2,
   "id": "bbe2951d",
   "metadata": {
    "scrolled": true
   },
   "outputs": [
    {
     "name": "stdout",
     "output_type": "stream",
     "text": [
      "Training Done\n",
      "Total Running Time: 0.0252\n"
     ]
    }
   ],
   "source": [
    "rho = 1/100\n",
    "c   = 100\n",
    "c1  = 0\n",
    "c2  = 0\n",
    "\n",
    "clf = PDLSSVM(rho, c, c1, c2)\n",
    "clf.fit(X_train, y_train)"
   ]
  },
  {
   "cell_type": "code",
   "execution_count": 3,
   "id": "57feb820",
   "metadata": {},
   "outputs": [
    {
     "name": "stdout",
     "output_type": "stream",
     "text": [
      "Prediction Done\n",
      "Total Running Time: 0.0003\n"
     ]
    },
    {
     "data": {
      "text/plain": [
       "array([[-1.],\n",
       "       [-1.],\n",
       "       [ 1.],\n",
       "       [ 1.],\n",
       "       [ 1.],\n",
       "       [ 1.],\n",
       "       [ 1.],\n",
       "       [-1.],\n",
       "       [-1.],\n",
       "       [-1.],\n",
       "       [-1.],\n",
       "       [ 1.],\n",
       "       [ 1.],\n",
       "       [ 1.],\n",
       "       [ 1.],\n",
       "       [ 1.],\n",
       "       [ 1.],\n",
       "       [-1.],\n",
       "       [ 1.],\n",
       "       [ 1.]])"
      ]
     },
     "execution_count": 3,
     "metadata": {},
     "output_type": "execute_result"
    }
   ],
   "source": [
    "pred, _, _ = clf.predict(X_test)\n",
    "pred"
   ]
  },
  {
   "cell_type": "code",
   "execution_count": 4,
   "id": "c7ff5d5f",
   "metadata": {},
   "outputs": [
    {
     "data": {
      "text/plain": [
       "array([[ 7,  0],\n",
       "       [ 0, 13]])"
      ]
     },
     "execution_count": 4,
     "metadata": {},
     "output_type": "execute_result"
    }
   ],
   "source": [
    "confusion_matrix(y_test, pred)"
   ]
  },
  {
   "cell_type": "code",
   "execution_count": null,
   "id": "36785c4d",
   "metadata": {},
   "outputs": [],
   "source": []
  }
 ],
 "metadata": {
  "kernelspec": {
   "display_name": "Python 3",
   "language": "python",
   "name": "python3"
  },
  "language_info": {
   "codemirror_mode": {
    "name": "ipython",
    "version": 3
   },
   "file_extension": ".py",
   "mimetype": "text/x-python",
   "name": "python",
   "nbconvert_exporter": "python",
   "pygments_lexer": "ipython3",
   "version": "3.9.2"
  }
 },
 "nbformat": 4,
 "nbformat_minor": 5
}
