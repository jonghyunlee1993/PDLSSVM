{
 "cells": [
  {
   "cell_type": "code",
   "execution_count": 14,
   "id": "14bc1f75",
   "metadata": {},
   "outputs": [],
   "source": [
    "import numpy as np\n",
    "import pandas as pd\n",
    "from src.PDLSSVM import PDLSSVM\n",
    "from sklearn.datasets import load_iris\n",
    "from sklearn.model_selection import train_test_split, KFold\n",
    "from sklearn.metrics import confusion_matrix, accuracy_score\n",
    "\n",
    "kf = KFold(n_splits=5, shuffle=True, random_state=1234)"
   ]
  },
  {
   "cell_type": "markdown",
   "id": "866b4c2e",
   "metadata": {},
   "source": [
    "# iris dataset"
   ]
  },
  {
   "cell_type": "code",
   "execution_count": 16,
   "id": "5bb668ce",
   "metadata": {
    "scrolled": false
   },
   "outputs": [
    {
     "data": {
      "application/vnd.jupyter.widget-view+json": {
       "model_id": "9ef85245a34f4f5b8e00a538c63110fa",
       "version_major": 2,
       "version_minor": 0
      },
      "text/plain": [
       "  0%|          | 0/4 [00:00<?, ?it/s]"
      ]
     },
     "metadata": {},
     "output_type": "display_data"
    },
    {
     "data": {
      "text/html": [
       "<div>\n",
       "<style scoped>\n",
       "    .dataframe tbody tr th:only-of-type {\n",
       "        vertical-align: middle;\n",
       "    }\n",
       "\n",
       "    .dataframe tbody tr th {\n",
       "        vertical-align: top;\n",
       "    }\n",
       "\n",
       "    .dataframe thead th {\n",
       "        text-align: right;\n",
       "    }\n",
       "</style>\n",
       "<table border=\"1\" class=\"dataframe\">\n",
       "  <thead>\n",
       "    <tr style=\"text-align: right;\">\n",
       "      <th></th>\n",
       "      <th>rho</th>\n",
       "      <th>c</th>\n",
       "      <th>c1</th>\n",
       "      <th>c2</th>\n",
       "      <th>Acc</th>\n",
       "    </tr>\n",
       "  </thead>\n",
       "  <tbody>\n",
       "    <tr>\n",
       "      <th>0</th>\n",
       "      <td>0.000001</td>\n",
       "      <td>1.000000e-08</td>\n",
       "      <td>1.000000e-08</td>\n",
       "      <td>1.000000e-08</td>\n",
       "      <td>0.8375</td>\n",
       "    </tr>\n",
       "    <tr>\n",
       "      <th>1</th>\n",
       "      <td>0.000001</td>\n",
       "      <td>1.000000e-08</td>\n",
       "      <td>1.000000e-08</td>\n",
       "      <td>1.000000e-07</td>\n",
       "      <td>0.8375</td>\n",
       "    </tr>\n",
       "    <tr>\n",
       "      <th>2</th>\n",
       "      <td>0.000001</td>\n",
       "      <td>1.000000e-08</td>\n",
       "      <td>1.000000e-08</td>\n",
       "      <td>1.000000e-06</td>\n",
       "      <td>0.8375</td>\n",
       "    </tr>\n",
       "    <tr>\n",
       "      <th>3</th>\n",
       "      <td>0.000001</td>\n",
       "      <td>1.000000e-08</td>\n",
       "      <td>1.000000e-08</td>\n",
       "      <td>1.000000e-05</td>\n",
       "      <td>0.8375</td>\n",
       "    </tr>\n",
       "    <tr>\n",
       "      <th>4</th>\n",
       "      <td>0.000001</td>\n",
       "      <td>1.000000e-08</td>\n",
       "      <td>1.000000e-08</td>\n",
       "      <td>1.000000e-04</td>\n",
       "      <td>0.8375</td>\n",
       "    </tr>\n",
       "    <tr>\n",
       "      <th>...</th>\n",
       "      <td>...</td>\n",
       "      <td>...</td>\n",
       "      <td>...</td>\n",
       "      <td>...</td>\n",
       "      <td>...</td>\n",
       "    </tr>\n",
       "    <tr>\n",
       "      <th>16379</th>\n",
       "      <td>0.001000</td>\n",
       "      <td>1.000000e+08</td>\n",
       "      <td>1.000000e+08</td>\n",
       "      <td>1.000000e+04</td>\n",
       "      <td>1.0000</td>\n",
       "    </tr>\n",
       "    <tr>\n",
       "      <th>16380</th>\n",
       "      <td>0.001000</td>\n",
       "      <td>1.000000e+08</td>\n",
       "      <td>1.000000e+08</td>\n",
       "      <td>1.000000e+05</td>\n",
       "      <td>1.0000</td>\n",
       "    </tr>\n",
       "    <tr>\n",
       "      <th>16381</th>\n",
       "      <td>0.001000</td>\n",
       "      <td>1.000000e+08</td>\n",
       "      <td>1.000000e+08</td>\n",
       "      <td>1.000000e+06</td>\n",
       "      <td>1.0000</td>\n",
       "    </tr>\n",
       "    <tr>\n",
       "      <th>16382</th>\n",
       "      <td>0.001000</td>\n",
       "      <td>1.000000e+08</td>\n",
       "      <td>1.000000e+08</td>\n",
       "      <td>1.000000e+07</td>\n",
       "      <td>1.0000</td>\n",
       "    </tr>\n",
       "    <tr>\n",
       "      <th>16383</th>\n",
       "      <td>0.001000</td>\n",
       "      <td>1.000000e+08</td>\n",
       "      <td>1.000000e+08</td>\n",
       "      <td>1.000000e+08</td>\n",
       "      <td>1.0000</td>\n",
       "    </tr>\n",
       "  </tbody>\n",
       "</table>\n",
       "<p>16384 rows × 5 columns</p>\n",
       "</div>"
      ],
      "text/plain": [
       "            rho             c            c1            c2     Acc\n",
       "0      0.000001  1.000000e-08  1.000000e-08  1.000000e-08  0.8375\n",
       "1      0.000001  1.000000e-08  1.000000e-08  1.000000e-07  0.8375\n",
       "2      0.000001  1.000000e-08  1.000000e-08  1.000000e-06  0.8375\n",
       "3      0.000001  1.000000e-08  1.000000e-08  1.000000e-05  0.8375\n",
       "4      0.000001  1.000000e-08  1.000000e-08  1.000000e-04  0.8375\n",
       "...         ...           ...           ...           ...     ...\n",
       "16379  0.001000  1.000000e+08  1.000000e+08  1.000000e+04  1.0000\n",
       "16380  0.001000  1.000000e+08  1.000000e+08  1.000000e+05  1.0000\n",
       "16381  0.001000  1.000000e+08  1.000000e+08  1.000000e+06  1.0000\n",
       "16382  0.001000  1.000000e+08  1.000000e+08  1.000000e+07  1.0000\n",
       "16383  0.001000  1.000000e+08  1.000000e+08  1.000000e+08  1.0000\n",
       "\n",
       "[16384 rows x 5 columns]"
      ]
     },
     "execution_count": 16,
     "metadata": {},
     "output_type": "execute_result"
    }
   ],
   "source": [
    "from tqdm.notebook import tqdm\n",
    "\n",
    "iris = load_iris()\n",
    "X = iris['data'][:100]\n",
    "y = iris['target'][:100]\n",
    "y[:50] = -1\n",
    "\n",
    "X, X_test, y, y_test = train_test_split(X, y, test_size=0.2, random_state=1234)\n",
    "\n",
    "rho_search_space = [1e-6, 1e-5, 1e-4, 1e-3]\n",
    "c_search_space   = [1e-8, 1e-7, 1e-6, 1e-5, 1e-4, 1e-3, 1e-2, 1e-1, 1e+1, 1e+2, 1e+3, 1e+4, 1e+5, 1e+6, 1e+7, 1e+8]\n",
    "c1_search_space  = [1e-8, 1e-7, 1e-6, 1e-5, 1e-4, 1e-3, 1e-2, 1e-1, 1e+1, 1e+2, 1e+3, 1e+4, 1e+5, 1e+6, 1e+7, 1e+8]\n",
    "c2_search_space  = [1e-8, 1e-7, 1e-6, 1e-5, 1e-4, 1e-3, 1e-2, 1e-1, 1e+1, 1e+2, 1e+3, 1e+4, 1e+5, 1e+6, 1e+7, 1e+8]\n",
    "\n",
    "# rho_search_space = [1e-4]\n",
    "# c_search_space   = [1e+5]\n",
    "# c1_search_space  = [1e-7]\n",
    "# c2_search_space  = [1e-8]\n",
    "\n",
    "results_dict = {\"rho\":[], \"c\": [], \"c1\": [], \"c2\": [], \"Acc\": []}\n",
    "\n",
    "for rho in tqdm(rho_search_space):\n",
    "    for c in c_search_space:\n",
    "        for c1 in c1_search_space:\n",
    "            for c2 in c2_search_space:\n",
    "                cv_acc = []\n",
    "                for train_index, val_index in kf.split(X):\n",
    "                    X_train, X_val = X[train_index], X[val_index]\n",
    "                    y_train, y_val = y[train_index], y[val_index]\n",
    "                \n",
    "                    clf = PDLSSVM(rho, c, c1, c2)\n",
    "                    clf.fit(X_train, y_train)\n",
    "                    pred, _, _ = clf.predict(X_val)\n",
    "                    acc = accuracy_score(y_val, pred)\n",
    "                    cv_acc.append(acc)\n",
    "                \n",
    "                cv_acc = np.mean(cv_acc)\n",
    "                results_dict['rho'].append(rho)\n",
    "                results_dict['c'].append(c)\n",
    "                results_dict['c1'].append(c1)\n",
    "                results_dict['c2'].append(c2)\n",
    "                results_dict['Acc'].append(cv_acc)\n",
    "                \n",
    "results_df = pd.DataFrame.from_dict(results_dict)\n",
    "results_df"
   ]
  },
  {
   "cell_type": "code",
   "execution_count": 17,
   "id": "78abd821",
   "metadata": {},
   "outputs": [
    {
     "data": {
      "text/html": [
       "<div>\n",
       "<style scoped>\n",
       "    .dataframe tbody tr th:only-of-type {\n",
       "        vertical-align: middle;\n",
       "    }\n",
       "\n",
       "    .dataframe tbody tr th {\n",
       "        vertical-align: top;\n",
       "    }\n",
       "\n",
       "    .dataframe thead th {\n",
       "        text-align: right;\n",
       "    }\n",
       "</style>\n",
       "<table border=\"1\" class=\"dataframe\">\n",
       "  <thead>\n",
       "    <tr style=\"text-align: right;\">\n",
       "      <th></th>\n",
       "      <th>rho</th>\n",
       "      <th>c</th>\n",
       "      <th>c1</th>\n",
       "      <th>c2</th>\n",
       "      <th>Acc</th>\n",
       "    </tr>\n",
       "  </thead>\n",
       "  <tbody>\n",
       "    <tr>\n",
       "      <th>16383</th>\n",
       "      <td>0.00100</td>\n",
       "      <td>1.000000e+08</td>\n",
       "      <td>1.000000e+08</td>\n",
       "      <td>1.000000e+08</td>\n",
       "      <td>1.0000</td>\n",
       "    </tr>\n",
       "    <tr>\n",
       "      <th>12223</th>\n",
       "      <td>0.00010</td>\n",
       "      <td>1.000000e+08</td>\n",
       "      <td>1.000000e+04</td>\n",
       "      <td>1.000000e+08</td>\n",
       "      <td>1.0000</td>\n",
       "    </tr>\n",
       "    <tr>\n",
       "      <th>6334</th>\n",
       "      <td>0.00001</td>\n",
       "      <td>1.000000e+01</td>\n",
       "      <td>1.000000e+04</td>\n",
       "      <td>1.000000e+07</td>\n",
       "      <td>1.0000</td>\n",
       "    </tr>\n",
       "    <tr>\n",
       "      <th>6335</th>\n",
       "      <td>0.00001</td>\n",
       "      <td>1.000000e+01</td>\n",
       "      <td>1.000000e+04</td>\n",
       "      <td>1.000000e+08</td>\n",
       "      <td>1.0000</td>\n",
       "    </tr>\n",
       "    <tr>\n",
       "      <th>12227</th>\n",
       "      <td>0.00010</td>\n",
       "      <td>1.000000e+08</td>\n",
       "      <td>1.000000e+05</td>\n",
       "      <td>1.000000e-05</td>\n",
       "      <td>1.0000</td>\n",
       "    </tr>\n",
       "    <tr>\n",
       "      <th>...</th>\n",
       "      <td>...</td>\n",
       "      <td>...</td>\n",
       "      <td>...</td>\n",
       "      <td>...</td>\n",
       "      <td>...</td>\n",
       "    </tr>\n",
       "    <tr>\n",
       "      <th>8645</th>\n",
       "      <td>0.00010</td>\n",
       "      <td>1.000000e-07</td>\n",
       "      <td>1.000000e+05</td>\n",
       "      <td>1.000000e-03</td>\n",
       "      <td>0.4625</td>\n",
       "    </tr>\n",
       "    <tr>\n",
       "      <th>8646</th>\n",
       "      <td>0.00010</td>\n",
       "      <td>1.000000e-07</td>\n",
       "      <td>1.000000e+05</td>\n",
       "      <td>1.000000e-02</td>\n",
       "      <td>0.4625</td>\n",
       "    </tr>\n",
       "    <tr>\n",
       "      <th>8647</th>\n",
       "      <td>0.00010</td>\n",
       "      <td>1.000000e-07</td>\n",
       "      <td>1.000000e+05</td>\n",
       "      <td>1.000000e-01</td>\n",
       "      <td>0.4625</td>\n",
       "    </tr>\n",
       "    <tr>\n",
       "      <th>8648</th>\n",
       "      <td>0.00010</td>\n",
       "      <td>1.000000e-07</td>\n",
       "      <td>1.000000e+05</td>\n",
       "      <td>1.000000e+01</td>\n",
       "      <td>0.4625</td>\n",
       "    </tr>\n",
       "    <tr>\n",
       "      <th>13378</th>\n",
       "      <td>0.00100</td>\n",
       "      <td>1.000000e-04</td>\n",
       "      <td>1.000000e-04</td>\n",
       "      <td>1.000000e-06</td>\n",
       "      <td>0.4625</td>\n",
       "    </tr>\n",
       "  </tbody>\n",
       "</table>\n",
       "<p>16384 rows × 5 columns</p>\n",
       "</div>"
      ],
      "text/plain": [
       "           rho             c            c1            c2     Acc\n",
       "16383  0.00100  1.000000e+08  1.000000e+08  1.000000e+08  1.0000\n",
       "12223  0.00010  1.000000e+08  1.000000e+04  1.000000e+08  1.0000\n",
       "6334   0.00001  1.000000e+01  1.000000e+04  1.000000e+07  1.0000\n",
       "6335   0.00001  1.000000e+01  1.000000e+04  1.000000e+08  1.0000\n",
       "12227  0.00010  1.000000e+08  1.000000e+05  1.000000e-05  1.0000\n",
       "...        ...           ...           ...           ...     ...\n",
       "8645   0.00010  1.000000e-07  1.000000e+05  1.000000e-03  0.4625\n",
       "8646   0.00010  1.000000e-07  1.000000e+05  1.000000e-02  0.4625\n",
       "8647   0.00010  1.000000e-07  1.000000e+05  1.000000e-01  0.4625\n",
       "8648   0.00010  1.000000e-07  1.000000e+05  1.000000e+01  0.4625\n",
       "13378  0.00100  1.000000e-04  1.000000e-04  1.000000e-06  0.4625\n",
       "\n",
       "[16384 rows x 5 columns]"
      ]
     },
     "execution_count": 17,
     "metadata": {},
     "output_type": "execute_result"
    }
   ],
   "source": [
    "results_df.sort_values('Acc', ascending=False)"
   ]
  },
  {
   "cell_type": "code",
   "execution_count": 18,
   "id": "bbe2951d",
   "metadata": {
    "scrolled": false
   },
   "outputs": [
    {
     "name": "stdout",
     "output_type": "stream",
     "text": [
      "Training Done\n",
      "Total Running Time: 0.0494\n",
      "Prediction Done\n",
      "Total Running Time: 0.0004\n"
     ]
    },
    {
     "data": {
      "text/plain": [
       "array([[ 7,  0],\n",
       "       [ 0, 13]])"
      ]
     },
     "execution_count": 18,
     "metadata": {},
     "output_type": "execute_result"
    }
   ],
   "source": [
    "#PDLSSVM\n",
    "rho = 1e-3\n",
    "c   = 1e+8\n",
    "c1  = 1e-8\n",
    "c2  = 1e-8\n",
    "\n",
    "clf = PDLSSVM(rho, c, c1, c2)\n",
    "clf.fit(X, y, verbose=True)\n",
    "pred, _, _ = clf.predict(X_test, verbose=True)\n",
    "# confusion_matrix(y_test, pred)\n",
    "accuracy_score(y_test, pred)"
   ]
  },
  {
   "cell_type": "code",
   "execution_count": 21,
   "id": "36785c4d",
   "metadata": {
    "scrolled": true
   },
   "outputs": [
    {
     "name": "stdout",
     "output_type": "stream",
     "text": [
      "Training Done\n",
      "Total Running Time: 0.0743\n",
      "Prediction Done\n",
      "Total Running Time: 0.0003\n"
     ]
    },
    {
     "data": {
      "text/plain": [
       "1.0"
      ]
     },
     "execution_count": 21,
     "metadata": {},
     "output_type": "execute_result"
    }
   ],
   "source": [
    "# LSSVM\n",
    "rho = 1e-4\n",
    "c   = 1e+5\n",
    "c1  = 0\n",
    "c2  = 0\n",
    "\n",
    "clf = PDLSSVM(rho, c, c1, c2)\n",
    "clf.fit(X, y, verbose=True)\n",
    "pred, _, _ = clf.predict(X_test, verbose=True)\n",
    "# confusion_matrix(y_test, pred)\n",
    "accuracy_score(y_test, pred)"
   ]
  },
  {
   "cell_type": "code",
   "execution_count": 22,
   "id": "8e98aa67",
   "metadata": {},
   "outputs": [
    {
     "data": {
      "text/plain": [
       "1.0"
      ]
     },
     "execution_count": 22,
     "metadata": {},
     "output_type": "execute_result"
    }
   ],
   "source": [
    "from sklearn.svm import SVC\n",
    "\n",
    "clf = SVC()\n",
    "clf.fit(X, y)\n",
    "pred = clf.predict(X_test)\n",
    "# confusion_matrix(y_test, pred)\n",
    "accuracy_score(y_test, pred)"
   ]
  },
  {
   "cell_type": "markdown",
   "id": "0357f00d",
   "metadata": {},
   "source": [
    "# sonar dataset"
   ]
  },
  {
   "cell_type": "code",
   "execution_count": 23,
   "id": "82e81ce7",
   "metadata": {},
   "outputs": [],
   "source": [
    "df = pd.read_table(\"data/sonar.all-data\", sep=\",\", header=None)\n",
    "\n",
    "X = df.iloc[:, :-1].values\n",
    "y = df.iloc[:, -1].valuesa\n",
    "\n",
    "y[np.isin(y, \"R\")] = -1\n",
    "y[np.isin(y, \"M\")] = 1\n",
    "y = np.expand_dims(y, -1).astype('int64')\n",
    "\n",
    "X, X_test, y, y_test = train_test_split(X, y, test_size=0.2, random_state=1234, stratify=y)"
   ]
  },
  {
   "cell_type": "code",
   "execution_count": 24,
   "id": "f69fcb65",
   "metadata": {
    "scrolled": true
   },
   "outputs": [
    {
     "data": {
      "application/vnd.jupyter.widget-view+json": {
       "model_id": "f803c41116694bdeb6e912bc1ee04f7d",
       "version_major": 2,
       "version_minor": 0
      },
      "text/plain": [
       "  0%|          | 0/4 [00:00<?, ?it/s]"
      ]
     },
     "metadata": {},
     "output_type": "display_data"
    },
    {
     "data": {
      "text/html": [
       "<div>\n",
       "<style scoped>\n",
       "    .dataframe tbody tr th:only-of-type {\n",
       "        vertical-align: middle;\n",
       "    }\n",
       "\n",
       "    .dataframe tbody tr th {\n",
       "        vertical-align: top;\n",
       "    }\n",
       "\n",
       "    .dataframe thead th {\n",
       "        text-align: right;\n",
       "    }\n",
       "</style>\n",
       "<table border=\"1\" class=\"dataframe\">\n",
       "  <thead>\n",
       "    <tr style=\"text-align: right;\">\n",
       "      <th></th>\n",
       "      <th>rho</th>\n",
       "      <th>c</th>\n",
       "      <th>c1</th>\n",
       "      <th>c2</th>\n",
       "      <th>Acc</th>\n",
       "    </tr>\n",
       "  </thead>\n",
       "  <tbody>\n",
       "    <tr>\n",
       "      <th>0</th>\n",
       "      <td>0.000001</td>\n",
       "      <td>1.000000e-08</td>\n",
       "      <td>1.000000e-08</td>\n",
       "      <td>1.000000e-08</td>\n",
       "      <td>0.541176</td>\n",
       "    </tr>\n",
       "    <tr>\n",
       "      <th>1</th>\n",
       "      <td>0.000001</td>\n",
       "      <td>1.000000e-08</td>\n",
       "      <td>1.000000e-08</td>\n",
       "      <td>1.000000e-07</td>\n",
       "      <td>0.541176</td>\n",
       "    </tr>\n",
       "    <tr>\n",
       "      <th>2</th>\n",
       "      <td>0.000001</td>\n",
       "      <td>1.000000e-08</td>\n",
       "      <td>1.000000e-08</td>\n",
       "      <td>1.000000e-06</td>\n",
       "      <td>0.541176</td>\n",
       "    </tr>\n",
       "    <tr>\n",
       "      <th>3</th>\n",
       "      <td>0.000001</td>\n",
       "      <td>1.000000e-08</td>\n",
       "      <td>1.000000e-08</td>\n",
       "      <td>1.000000e-05</td>\n",
       "      <td>0.541176</td>\n",
       "    </tr>\n",
       "    <tr>\n",
       "      <th>4</th>\n",
       "      <td>0.000001</td>\n",
       "      <td>1.000000e-08</td>\n",
       "      <td>1.000000e-08</td>\n",
       "      <td>1.000000e-04</td>\n",
       "      <td>0.541176</td>\n",
       "    </tr>\n",
       "    <tr>\n",
       "      <th>...</th>\n",
       "      <td>...</td>\n",
       "      <td>...</td>\n",
       "      <td>...</td>\n",
       "      <td>...</td>\n",
       "      <td>...</td>\n",
       "    </tr>\n",
       "    <tr>\n",
       "      <th>16379</th>\n",
       "      <td>0.001000</td>\n",
       "      <td>1.000000e+08</td>\n",
       "      <td>1.000000e+08</td>\n",
       "      <td>1.000000e+04</td>\n",
       "      <td>0.716578</td>\n",
       "    </tr>\n",
       "    <tr>\n",
       "      <th>16380</th>\n",
       "      <td>0.001000</td>\n",
       "      <td>1.000000e+08</td>\n",
       "      <td>1.000000e+08</td>\n",
       "      <td>1.000000e+05</td>\n",
       "      <td>0.716578</td>\n",
       "    </tr>\n",
       "    <tr>\n",
       "      <th>16381</th>\n",
       "      <td>0.001000</td>\n",
       "      <td>1.000000e+08</td>\n",
       "      <td>1.000000e+08</td>\n",
       "      <td>1.000000e+06</td>\n",
       "      <td>0.716578</td>\n",
       "    </tr>\n",
       "    <tr>\n",
       "      <th>16382</th>\n",
       "      <td>0.001000</td>\n",
       "      <td>1.000000e+08</td>\n",
       "      <td>1.000000e+08</td>\n",
       "      <td>1.000000e+07</td>\n",
       "      <td>0.716578</td>\n",
       "    </tr>\n",
       "    <tr>\n",
       "      <th>16383</th>\n",
       "      <td>0.001000</td>\n",
       "      <td>1.000000e+08</td>\n",
       "      <td>1.000000e+08</td>\n",
       "      <td>1.000000e+08</td>\n",
       "      <td>0.716578</td>\n",
       "    </tr>\n",
       "  </tbody>\n",
       "</table>\n",
       "<p>16384 rows × 5 columns</p>\n",
       "</div>"
      ],
      "text/plain": [
       "            rho             c            c1            c2       Acc\n",
       "0      0.000001  1.000000e-08  1.000000e-08  1.000000e-08  0.541176\n",
       "1      0.000001  1.000000e-08  1.000000e-08  1.000000e-07  0.541176\n",
       "2      0.000001  1.000000e-08  1.000000e-08  1.000000e-06  0.541176\n",
       "3      0.000001  1.000000e-08  1.000000e-08  1.000000e-05  0.541176\n",
       "4      0.000001  1.000000e-08  1.000000e-08  1.000000e-04  0.541176\n",
       "...         ...           ...           ...           ...       ...\n",
       "16379  0.001000  1.000000e+08  1.000000e+08  1.000000e+04  0.716578\n",
       "16380  0.001000  1.000000e+08  1.000000e+08  1.000000e+05  0.716578\n",
       "16381  0.001000  1.000000e+08  1.000000e+08  1.000000e+06  0.716578\n",
       "16382  0.001000  1.000000e+08  1.000000e+08  1.000000e+07  0.716578\n",
       "16383  0.001000  1.000000e+08  1.000000e+08  1.000000e+08  0.716578\n",
       "\n",
       "[16384 rows x 5 columns]"
      ]
     },
     "execution_count": 24,
     "metadata": {},
     "output_type": "execute_result"
    }
   ],
   "source": [
    "rho_search_space = [1e-6, 1e-5, 1e-4, 1e-3]\n",
    "c_search_space   = [1e-8, 1e-7, 1e-6, 1e-5, 1e-4, 1e-3, 1e-2, 1e-1, 1e+1, 1e+2, 1e+3, 1e+4, 1e+5, 1e+6, 1e+7, 1e+8]\n",
    "c1_search_space  = [1e-8, 1e-7, 1e-6, 1e-5, 1e-4, 1e-3, 1e-2, 1e-1, 1e+1, 1e+2, 1e+3, 1e+4, 1e+5, 1e+6, 1e+7, 1e+8]\n",
    "c2_search_space  = [1e-8, 1e-7, 1e-6, 1e-5, 1e-4, 1e-3, 1e-2, 1e-1, 1e+1, 1e+2, 1e+3, 1e+4, 1e+5, 1e+6, 1e+7, 1e+8]\n",
    "\n",
    "results_dict = {\"rho\":[], \"c\": [], \"c1\": [], \"c2\": [], \"Acc\": []}\n",
    "kf = KFold(n_splits=5, shuffle=True, random_state=1234)\n",
    "\n",
    "for rho in tqdm(rho_search_space):\n",
    "    for c in c_search_space:\n",
    "        for c1 in c1_search_space:\n",
    "            for c2 in c2_search_space:\n",
    "                cv_acc = []\n",
    "                for train_index, val_index in kf.split(X):\n",
    "                    X_train, X_val = X[train_index], X[val_index]\n",
    "                    y_train, y_val = y[train_index], y[val_index]\n",
    "                \n",
    "                    clf = PDLSSVM(rho, c, c1, c2)\n",
    "                    clf.fit(X_train, y_train)\n",
    "                    pred, _, _ = clf.predict(X_val)\n",
    "                    pred.astype('int64')\n",
    "                    \n",
    "                    acc = accuracy_score(y_val, pred)1\n",
    "                    cv_acc.append(acc)\n",
    "                \n",
    "                cv_acc = np.mean(cv_acc)\n",
    "                results_dict['rho'].append(rho)\n",
    "                results_dict['c'].append(c)\n",
    "                results_dict['c1'].append(c1)\n",
    "                results_dict['c2'].append(c2)\n",
    "                results_dict['Acc'].append(cv_acc)\n",
    "                \n",
    "results_df = pd.DataFrame.from_dict(results_dict)\n",
    "results_df"
   ]
  },
  {
   "cell_type": "code",
   "execution_count": 26,
   "id": "89eadf13",
   "metadata": {
    "scrolled": true
   },
   "outputs": [
    {
     "data": {
      "text/html": [
       "<div>\n",
       "<style scoped>\n",
       "    .dataframe tbody tr th:only-of-type {\n",
       "        vertical-align: middle;\n",
       "    }\n",
       "\n",
       "    .dataframe tbody tr th {\n",
       "        vertical-align: top;\n",
       "    }\n",
       "\n",
       "    .dataframe thead th {\n",
       "        text-align: right;\n",
       "    }\n",
       "</style>\n",
       "<table border=\"1\" class=\"dataframe\">\n",
       "  <thead>\n",
       "    <tr style=\"text-align: right;\">\n",
       "      <th></th>\n",
       "      <th>rho</th>\n",
       "      <th>c</th>\n",
       "      <th>c1</th>\n",
       "      <th>c2</th>\n",
       "      <th>Acc</th>\n",
       "    </tr>\n",
       "  </thead>\n",
       "  <tbody>\n",
       "    <tr>\n",
       "      <th>7078</th>\n",
       "      <td>0.00001</td>\n",
       "      <td>10000.0</td>\n",
       "      <td>1000.0</td>\n",
       "      <td>1.000000e-02</td>\n",
       "      <td>0.770766</td>\n",
       "    </tr>\n",
       "    <tr>\n",
       "      <th>7387</th>\n",
       "      <td>0.00001</td>\n",
       "      <td>100000.0</td>\n",
       "      <td>1000000.0</td>\n",
       "      <td>1.000000e+04</td>\n",
       "      <td>0.764884</td>\n",
       "    </tr>\n",
       "    <tr>\n",
       "      <th>7385</th>\n",
       "      <td>0.00001</td>\n",
       "      <td>100000.0</td>\n",
       "      <td>1000000.0</td>\n",
       "      <td>1.000000e+02</td>\n",
       "      <td>0.764884</td>\n",
       "    </tr>\n",
       "    <tr>\n",
       "      <th>7384</th>\n",
       "      <td>0.00001</td>\n",
       "      <td>100000.0</td>\n",
       "      <td>1000000.0</td>\n",
       "      <td>1.000000e+01</td>\n",
       "      <td>0.764884</td>\n",
       "    </tr>\n",
       "    <tr>\n",
       "      <th>7375</th>\n",
       "      <td>0.00001</td>\n",
       "      <td>100000.0</td>\n",
       "      <td>100000.0</td>\n",
       "      <td>1.000000e+08</td>\n",
       "      <td>0.764884</td>\n",
       "    </tr>\n",
       "    <tr>\n",
       "      <th>...</th>\n",
       "      <td>...</td>\n",
       "      <td>...</td>\n",
       "      <td>...</td>\n",
       "      <td>...</td>\n",
       "      <td>...</td>\n",
       "    </tr>\n",
       "    <tr>\n",
       "      <th>7376</th>\n",
       "      <td>0.00001</td>\n",
       "      <td>100000.0</td>\n",
       "      <td>1000000.0</td>\n",
       "      <td>1.000000e-08</td>\n",
       "      <td>0.451337</td>\n",
       "    </tr>\n",
       "    <tr>\n",
       "      <th>7649</th>\n",
       "      <td>0.00001</td>\n",
       "      <td>1000000.0</td>\n",
       "      <td>10000000.0</td>\n",
       "      <td>1.000000e-07</td>\n",
       "      <td>0.451337</td>\n",
       "    </tr>\n",
       "    <tr>\n",
       "      <th>7648</th>\n",
       "      <td>0.00001</td>\n",
       "      <td>1000000.0</td>\n",
       "      <td>10000000.0</td>\n",
       "      <td>1.000000e-08</td>\n",
       "      <td>0.451337</td>\n",
       "    </tr>\n",
       "    <tr>\n",
       "      <th>7415</th>\n",
       "      <td>0.00001</td>\n",
       "      <td>100000.0</td>\n",
       "      <td>100000000.0</td>\n",
       "      <td>1.000000e-01</td>\n",
       "      <td>0.451337</td>\n",
       "    </tr>\n",
       "    <tr>\n",
       "      <th>7650</th>\n",
       "      <td>0.00001</td>\n",
       "      <td>1000000.0</td>\n",
       "      <td>10000000.0</td>\n",
       "      <td>1.000000e-06</td>\n",
       "      <td>0.451337</td>\n",
       "    </tr>\n",
       "  </tbody>\n",
       "</table>\n",
       "<p>16384 rows × 5 columns</p>\n",
       "</div>"
      ],
      "text/plain": [
       "          rho          c           c1            c2       Acc\n",
       "7078  0.00001    10000.0       1000.0  1.000000e-02  0.770766\n",
       "7387  0.00001   100000.0    1000000.0  1.000000e+04  0.764884\n",
       "7385  0.00001   100000.0    1000000.0  1.000000e+02  0.764884\n",
       "7384  0.00001   100000.0    1000000.0  1.000000e+01  0.764884\n",
       "7375  0.00001   100000.0     100000.0  1.000000e+08  0.764884\n",
       "...       ...        ...          ...           ...       ...\n",
       "7376  0.00001   100000.0    1000000.0  1.000000e-08  0.451337\n",
       "7649  0.00001  1000000.0   10000000.0  1.000000e-07  0.451337\n",
       "7648  0.00001  1000000.0   10000000.0  1.000000e-08  0.451337\n",
       "7415  0.00001   100000.0  100000000.0  1.000000e-01  0.451337\n",
       "7650  0.00001  1000000.0   10000000.0  1.000000e-06  0.451337\n",
       "\n",
       "[16384 rows x 5 columns]"
      ]
     },
     "execution_count": 26,
     "metadata": {},
     "output_type": "execute_result"
    }
   ],
   "source": [
    "results_df.sort_values('Acc', ascending=False)"
   ]
  },
  {
   "cell_type": "code",
   "execution_count": 27,
   "id": "a7f3e1d3",
   "metadata": {},
   "outputs": [
    {
     "name": "stdout",
     "output_type": "stream",
     "text": [
      "Training Done\n",
      "Total Running Time: 0.1258\n",
      "Prediction Done\n",
      "Total Running Time: 0.0002\n"
     ]
    },
    {
     "data": {
      "text/plain": [
       "0.7142857142857143"
      ]
     },
     "execution_count": 27,
     "metadata": {},
     "output_type": "execute_result"
    }
   ],
   "source": [
    "#PDLSSVM\n",
    "rho = 1e-5\n",
    "c   = 1e+4\n",
    "c1  = 1e+3\n",
    "c2  = 1e-2\n",
    "\n",
    "clf = PDLSSVM(rho, c, c1, c2)\n",
    "clf.fit(X, y, verbose=True)\n",
    "pred, _, _ = clf.predict(X_test, verbose=True)\n",
    "# confusion_matrix(y_test, pred)\n",
    "accuracy_score(y_test, pred)"
   ]
  },
  {
   "cell_type": "code",
   "execution_count": 28,
   "id": "9eb85b29",
   "metadata": {},
   "outputs": [
    {
     "name": "stdout",
     "output_type": "stream",
     "text": [
      "Training Done\n",
      "Total Running Time: 0.1165\n",
      "Prediction Done\n",
      "Total Running Time: 0.0002\n"
     ]
    },
    {
     "data": {
      "text/plain": [
       "0.7619047619047619"
      ]
     },
     "execution_count": 28,
     "metadata": {},
     "output_type": "execute_result"
    }
   ],
   "source": [
    "# LSSVM\n",
    "rho = 1e-5\n",
    "c   = 1e+4\n",
    "c1  = 0\n",
    "c2  = 0\n",
    "\n",
    "clf = PDLSSVM(rho, c, c1, c2)\n",
    "clf.fit(X, y, verbose=True)\n",
    "pred, _, _ = clf.predict(X_test, verbose=True)\n",
    "# confusion_matrix(y_test, pred)\n",
    "accuracy_score(y_test, pred)"
   ]
  },
  {
   "cell_type": "code",
   "execution_count": 29,
   "id": "154d826e",
   "metadata": {},
   "outputs": [
    {
     "name": "stderr",
     "output_type": "stream",
     "text": [
      "/Users/jonghyun/miniforge3/lib/python3.9/site-packages/sklearn/utils/validation.py:63: DataConversionWarning: A column-vector y was passed when a 1d array was expected. Please change the shape of y to (n_samples, ), for example using ravel().\n",
      "  return f(*args, **kwargs)\n"
     ]
    },
    {
     "data": {
      "text/plain": [
       "0.8333333333333334"
      ]
     },
     "execution_count": 29,
     "metadata": {},
     "output_type": "execute_result"
    }
   ],
   "source": [
    "clf = SVC()\n",
    "clf.fit(X, y)\n",
    "pred = clf.predict(X_test)\n",
    "# confusion_matrix(y_test, pred)\n",
    "accuracy_score(y_test, pred)"
   ]
  },
  {
   "cell_type": "markdown",
   "id": "e3a26f6b",
   "metadata": {},
   "source": [
    "# gisette dataset"
   ]
  },
  {
   "cell_type": "code",
   "execution_count": 52,
   "id": "4e97a90f",
   "metadata": {},
   "outputs": [],
   "source": [
    "X = pd.read_csv(\"data/X_gisette.csv\", header=None).values\n",
    "y = pd.read_csv(\"data/y_gisette.csv\", header=None).values.astype('int64')\n",
    "\n",
    "X, X_test, y, y_test = train_test_split(X, y, test_size=0.2, random_state=1234, stratify=y)"
   ]
  },
  {
   "cell_type": "code",
   "execution_count": 41,
   "id": "0fefeb5a",
   "metadata": {},
   "outputs": [
    {
     "name": "stdout",
     "output_type": "stream",
     "text": [
      "Training Done\n",
      "Total Running Time: 914.9888\n",
      "Prediction Done\n",
      "Total Running Time: 0.1454\n"
     ]
    },
    {
     "data": {
      "text/plain": [
       "0.95"
      ]
     },
     "execution_count": 41,
     "metadata": {},
     "output_type": "execute_result"
    }
   ],
   "source": [
    "# X_train = X[:5900, :]\n",
    "# X_test  = X[5900:, :]\n",
    "# y_train = y[:5900]\n",
    "# y_test  = y[5900:]\n",
    "\n",
    "# rho = 1 / 100\n",
    "# c   = 100\n",
    "# c1  = 1 / 1000\n",
    "# c2  = 1 / 1000\n",
    "\n",
    "# clf = PDLSSVM(rho, c, c1, c2)\n",
    "# clf.fit(X_train, y_train, verbose=True)\n",
    "# pred, _, _ = clf.predict(X_test, verbose=True)\n",
    "# # confusion_matrix(y_test, pred)\n",
    "# accuracy_score(y_test, pred)"
   ]
  },
  {
   "cell_type": "code",
   "execution_count": 43,
   "id": "c9e78f21",
   "metadata": {
    "scrolled": true
   },
   "outputs": [
    {
     "name": "stdout",
     "output_type": "stream",
     "text": [
      "Prediction Done\n",
      "Total Running Time: 0.1421\n"
     ]
    },
    {
     "data": {
      "text/plain": [
       "array([0, 0, 0, ..., 0, 0, 0])"
      ]
     },
     "execution_count": 43,
     "metadata": {},
     "output_type": "execute_result"
    }
   ],
   "source": [
    "# pred, sparse_primal, sparse_dual = clf.predict(X_test, verbose=True)"
   ]
  },
  {
   "cell_type": "code",
   "execution_count": 49,
   "id": "ee4baa04",
   "metadata": {},
   "outputs": [
    {
     "data": {
      "text/plain": [
       "9.889369711684122"
      ]
     },
     "execution_count": 49,
     "metadata": {},
     "output_type": "execute_result"
    }
   ],
   "source": [
    "# np.sum(clf.beta)"
   ]
  },
  {
   "cell_type": "code",
   "execution_count": 51,
   "id": "6dece9d8",
   "metadata": {},
   "outputs": [
    {
     "data": {
      "text/plain": [
       "array([1153.2])"
      ]
     },
     "execution_count": 51,
     "metadata": {},
     "output_type": "execute_result"
    }
   ],
   "source": [
    "# sum(clf.alpha)"
   ]
  },
  {
   "cell_type": "code",
   "execution_count": 44,
   "id": "5a7c57bd",
   "metadata": {},
   "outputs": [
    {
     "data": {
      "text/plain": [
       "45"
      ]
     },
     "execution_count": 44,
     "metadata": {},
     "output_type": "execute_result"
    }
   ],
   "source": [
    "# sum(sparse_primal)"
   ]
  },
  {
   "cell_type": "code",
   "execution_count": 45,
   "id": "2985a6d7",
   "metadata": {},
   "outputs": [
    {
     "data": {
      "text/plain": [
       "134"
      ]
     },
     "execution_count": 45,
     "metadata": {},
     "output_type": "execute_result"
    }
   ],
   "source": [
    "# sum(sparse_dual)"
   ]
  },
  {
   "cell_type": "code",
   "execution_count": null,
   "id": "6d469ded",
   "metadata": {},
   "outputs": [
    {
     "data": {
      "application/vnd.jupyter.widget-view+json": {
       "model_id": "5a940c1c5b6c4354b9b34d227d17350c",
       "version_major": 2,
       "version_minor": 0
      },
      "text/plain": [
       "  0%|          | 0/4 [00:00<?, ?it/s]"
      ]
     },
     "metadata": {},
     "output_type": "display_data"
    }
   ],
   "source": [
    "rho_search_space = [1e-6, 1e-5, 1e-4, 1e-3]\n",
    "c_search_space   = [1e-8, 1e-7, 1e-6, 1e-5, 1e-4, 1e-3, 1e-2, 1e-1, 1e+1, 1e+2, 1e+3, 1e+4, 1e+5, 1e+6, 1e+7, 1e+8]\n",
    "c1_search_space  = [1e-8, 1e-7, 1e-6, 1e-5, 1e-4, 1e-3, 1e-2, 1e-1, 1e+1, 1e+2, 1e+3, 1e+4, 1e+5, 1e+6, 1e+7, 1e+8]\n",
    "c2_search_space  = [1e-8, 1e-7, 1e-6, 1e-5, 1e-4, 1e-3, 1e-2, 1e-1, 1e+1, 1e+2, 1e+3, 1e+4, 1e+5, 1e+6, 1e+7, 1e+8]\n",
    "\n",
    "results_dict = {\"rho\":[], \"c\": [], \"c1\": [], \"c2\": [], \"Acc\": []}\n",
    "kf = KFold(n_splits=5, shuffle=True, random_state=1234)\n",
    "\n",
    "for rho in tqdm(rho_search_space):\n",
    "    for c in c_search_space:\n",
    "        for c1 in c1_search_space:\n",
    "            for c2 in c2_search_space:\n",
    "                cv_acc = []\n",
    "                for train_index, val_index in kf.split(X):\n",
    "                    X_train, X_val = X[train_index], X[val_index]\n",
    "                    y_train, y_val = y[train_index], y[val_index]\n",
    "                \n",
    "                    clf = PDLSSVM(rho, c, c1, c2)\n",
    "                    clf.fit(X_train, y_train)\n",
    "                    pred, _, _ = clf.predict(X_val)\n",
    "                    pred.astype('int64')\n",
    "                    \n",
    "                    acc = accuracy_score(y_val, pred)\n",
    "                    cv_acc.append(acc)\n",
    "                \n",
    "                cv_acc = np.mean(cv_acc)\n",
    "                results_dict['rho'].append(rho)\n",
    "                results_dict['c'].append(c)\n",
    "                results_dict['c1'].append(c1)\n",
    "                results_dict['c2'].append(c2)\n",
    "                results_dict['Acc'].append(cv_acc)\n",
    "                \n",
    "results_df = pd.DataFrame.from_dict(results_dict)\n",
    "results_df"
   ]
  },
  {
   "cell_type": "code",
   "execution_count": null,
   "id": "c9572ba5",
   "metadata": {},
   "outputs": [],
   "source": [
    "results_df.sort_values('Acc', ascending=False)"
   ]
  },
  {
   "cell_type": "code",
   "execution_count": null,
   "id": "25bf87e0",
   "metadata": {},
   "outputs": [],
   "source": [
    "#PDLSSVM\n",
    "rho = 1e-5\n",
    "c   = 1e+4\n",
    "c1  = 1e+3\n",
    "c2  = 1e-2\n",
    "\n",
    "clf = PDLSSVM(rho, c, c1, c2)\n",
    "clf.fit(X, y, verbose=True)\n",
    "pred, _, _ = clf.predict(X_test, verbose=True)\n",
    "# confusion_matrix(y_test, pred)\n",
    "accuracy_score(y_test, pred)"
   ]
  },
  {
   "cell_type": "code",
   "execution_count": null,
   "id": "dc1b9eb4",
   "metadata": {},
   "outputs": [],
   "source": [
    "clf = SVC()\n",
    "clf.fit(X, y)\n",
    "pred = clf.predict(X_test)\n",
    "# confusion_matrix(y_test, pred)\n",
    "accuracy_score(y_test, pred)"
   ]
  }
 ],
 "metadata": {
  "kernelspec": {
   "display_name": "Python 3",
   "language": "python",
   "name": "python3"
  },
  "language_info": {
   "codemirror_mode": {
    "name": "ipython",
    "version": 3
   },
   "file_extension": ".py",
   "mimetype": "text/x-python",
   "name": "python",
   "nbconvert_exporter": "python",
   "pygments_lexer": "ipython3",
   "version": "3.9.2"
  }
 },
 "nbformat": 4,
 "nbformat_minor": 5
}
